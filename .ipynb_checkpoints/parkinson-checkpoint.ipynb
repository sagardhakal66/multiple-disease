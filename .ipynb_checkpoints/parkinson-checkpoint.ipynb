{
 "cells": [
  {
   "cell_type": "markdown",
   "id": "3b1158cc",
   "metadata": {
    "papermill": {
     "duration": 0.018077,
     "end_time": "2023-07-09T17:23:19.538230",
     "exception": false,
     "start_time": "2023-07-09T17:23:19.520153",
     "status": "completed"
    },
    "tags": []
   },
   "source": [
    "# **Using Machine Learning to Analyze Voice Disorders for Parkinson's Disease Detection**\n"
   ]
  },
  {
   "cell_type": "markdown",
   "id": "dec9844c",
   "metadata": {
    "papermill": {
     "duration": 0.016957,
     "end_time": "2023-07-09T17:23:19.572711",
     "exception": false,
     "start_time": "2023-07-09T17:23:19.555754",
     "status": "completed"
    },
    "tags": []
   },
   "source": [
    "## The purpose of this project is to develop a machine learning model that can accurately predict the presence of Parkinson's disease in an individual based on their voice recordings. Parkinson's disease is a neurodegenerative disorder that affects movement, with symptoms that include tremors, stiffness, and difficulty with coordination.\n",
    "\n",
    "<div style=\"text-align:center\">\n",
    "<img src=\"data:image/jpeg;base64,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\" width=\"500\" alt=\"parkinson detection\">\n",
    "</div>\n",
    "\n",
    "<div style=\"text-align:center\">\n",
    "<img src=\"https://cf-courses-data.s3.us.cloud-object-storage.appdomain.cloud/IBMSkillsNetwork-GPXX01JCEN/images/parkinson_patient_voice.png\" width=\"500\" alt=\"parkinson detection\">\n",
    "</div>"
   ]
  },
  {
   "cell_type": "markdown",
   "id": "b6d48e93",
   "metadata": {
    "papermill": {
     "duration": 0.017688,
     "end_time": "2023-07-09T17:23:19.607702",
     "exception": false,
     "start_time": "2023-07-09T17:23:19.590014",
     "status": "completed"
    },
    "tags": []
   },
   "source": [
    "# __Table of Contents__\n",
    "\n",
    "<ol>\n",
    "    <li><a href=\"#Objectives\">Objectives</a></li>\n",
    "    <li>\n",
    "        <a href=\"#Setup\">Setup</a>\n",
    "        <ol>\n",
    "            <li><a href=\"#Installing-Required-Libraries\">Installing Required Libraries</a></li>\n",
    "        </ol>\n",
    "    </li>\n",
    "    <li>\n",
    "        <a href=\"#Parkinson Data and Voice Disorder\">Parkinson Data and Voice Disorder</a>\n",
    "    </li>\n",
    "    <li><a href=\"#Loading Data\">Loading Data</a></li>\n",
    "    <li><a href=\"#Data Preparation\">Data Preparation</a></li>\n",
    "    <li><a href=\"#Train and Test Random Forest\">Train and Test Random Forest Model</a></li>\n",
    "    <li><a href=\"#Visualizing the decision tree\">Find Strong Model</a></li>\n",
    "</ol>\n"
   ]
  },
  {
   "cell_type": "markdown",
   "id": "ad0b5520",
   "metadata": {
    "papermill": {
     "duration": 0.0171,
     "end_time": "2023-07-09T17:23:19.642132",
     "exception": false,
     "start_time": "2023-07-09T17:23:19.625032",
     "status": "completed"
    },
    "tags": []
   },
   "source": [
    "# Objectives\n",
    "\n",
    "## After completing this lab you will be able to:\n",
    "\n",
    "- Use Python for data analysis and machine learning\n",
    "- Implement machine learning algorithms to detect Parkinson's disease in voice recordings\n",
    "- Evaluate model performance\n",
    "- Conduct grid search for tuning parameters\n",
    "- Visualize the decision tree model\n"
   ]
  },
  {
   "cell_type": "markdown",
   "id": "13aa2c0c",
   "metadata": {
    "papermill": {
     "duration": 0.017598,
     "end_time": "2023-07-09T17:23:19.677541",
     "exception": false,
     "start_time": "2023-07-09T17:23:19.659943",
     "status": "completed"
    },
    "tags": []
   },
   "source": [
    "----\n"
   ]
  },
  {
   "cell_type": "markdown",
   "id": "260dd8c2",
   "metadata": {
    "papermill": {
     "duration": 0.017221,
     "end_time": "2023-07-09T17:23:19.713030",
     "exception": false,
     "start_time": "2023-07-09T17:23:19.695809",
     "status": "completed"
    },
    "tags": []
   },
   "source": [
    "# Setup\n"
   ]
  },
  {
   "cell_type": "markdown",
   "id": "ec5d78e2",
   "metadata": {
    "papermill": {
     "duration": 0.018121,
     "end_time": "2023-07-09T17:23:19.748596",
     "exception": false,
     "start_time": "2023-07-09T17:23:19.730475",
     "status": "completed"
    },
    "tags": []
   },
   "source": [
    "# Installing Required Libraries\n"
   ]
  },
  {
   "cell_type": "code",
   "execution_count": 1,
   "id": "6ed70891",
   "metadata": {
    "execution": {
     "iopub.execute_input": "2023-07-09T17:23:19.786260Z",
     "iopub.status.busy": "2023-07-09T17:23:19.785748Z",
     "iopub.status.idle": "2023-07-09T17:24:41.062411Z",
     "shell.execute_reply": "2023-07-09T17:24:41.061573Z"
    },
    "papermill": {
     "duration": 81.297654,
     "end_time": "2023-07-09T17:24:41.064472",
     "exception": false,
     "start_time": "2023-07-09T17:23:19.766818",
     "status": "completed"
    },
    "tags": []
   },
   "outputs": [],
   "source": [
    "%%capture\n",
    "!mamba install -- upgrade scikit-learn=1.2.1\n",
    "!mamba install seaborn --y"
   ]
  },
  {
   "cell_type": "code",
   "execution_count": 2,
   "id": "38b4f051",
   "metadata": {
    "_kg_hide-output": true,
    "execution": {
     "iopub.execute_input": "2023-07-09T17:24:41.101383Z",
     "iopub.status.busy": "2023-07-09T17:24:41.101065Z",
     "iopub.status.idle": "2023-07-09T17:24:50.852556Z",
     "shell.execute_reply": "2023-07-09T17:24:50.851554Z"
    },
    "papermill": {
     "duration": 9.77219,
     "end_time": "2023-07-09T17:24:50.854745",
     "exception": false,
     "start_time": "2023-07-09T17:24:41.082555",
     "status": "completed"
    },
    "tags": []
   },
   "outputs": [
    {
     "name": "stdout",
     "output_type": "stream",
     "text": [
      "Collecting dtreeviz\r\n",
      "  Downloading dtreeviz-2.2.1-py3-none-any.whl (91 kB)\r\n",
      "\u001b[2K     \u001b[90m━━━━━━━━━━━━━━━━━━━━━━━━━━━━━━━━━━━━━━━━\u001b[0m \u001b[32m91.5/91.5 kB\u001b[0m \u001b[31m5.8 MB/s\u001b[0m eta \u001b[36m0:00:00\u001b[0m\r\n",
      "\u001b[?25hRequirement already satisfied: graphviz>=0.9 in /opt/conda/lib/python3.10/site-packages (from dtreeviz) (0.20.1)\r\n",
      "Requirement already satisfied: pandas in /opt/conda/lib/python3.10/site-packages (from dtreeviz) (1.5.3)\r\n",
      "Requirement already satisfied: numpy in /opt/conda/lib/python3.10/site-packages (from dtreeviz) (1.23.5)\r\n",
      "Requirement already satisfied: scikit-learn in /opt/conda/lib/python3.10/site-packages (from dtreeviz) (1.2.2)\r\n",
      "Requirement already satisfied: matplotlib in /opt/conda/lib/python3.10/site-packages (from dtreeviz) (3.6.3)\r\n",
      "Collecting colour (from dtreeviz)\r\n",
      "  Downloading colour-0.1.5-py2.py3-none-any.whl (23 kB)\r\n",
      "Requirement already satisfied: pytest in /opt/conda/lib/python3.10/site-packages (from dtreeviz) (7.3.2)\r\n",
      "Requirement already satisfied: contourpy>=1.0.1 in /opt/conda/lib/python3.10/site-packages (from matplotlib->dtreeviz) (1.0.7)\r\n",
      "Requirement already satisfied: cycler>=0.10 in /opt/conda/lib/python3.10/site-packages (from matplotlib->dtreeviz) (0.11.0)\r\n",
      "Requirement already satisfied: fonttools>=4.22.0 in /opt/conda/lib/python3.10/site-packages (from matplotlib->dtreeviz) (4.39.3)\r\n",
      "Requirement already satisfied: kiwisolver>=1.0.1 in /opt/conda/lib/python3.10/site-packages (from matplotlib->dtreeviz) (1.4.4)\r\n",
      "Requirement already satisfied: packaging>=20.0 in /opt/conda/lib/python3.10/site-packages (from matplotlib->dtreeviz) (21.3)\r\n",
      "Requirement already satisfied: pillow>=6.2.0 in /opt/conda/lib/python3.10/site-packages (from matplotlib->dtreeviz) (9.5.0)\r\n",
      "Requirement already satisfied: pyparsing>=2.2.1 in /opt/conda/lib/python3.10/site-packages (from matplotlib->dtreeviz) (3.0.9)\r\n",
      "Requirement already satisfied: python-dateutil>=2.7 in /opt/conda/lib/python3.10/site-packages (from matplotlib->dtreeviz) (2.8.2)\r\n",
      "Requirement already satisfied: pytz>=2020.1 in /opt/conda/lib/python3.10/site-packages (from pandas->dtreeviz) (2023.3)\r\n",
      "Requirement already satisfied: iniconfig in /opt/conda/lib/python3.10/site-packages (from pytest->dtreeviz) (2.0.0)\r\n",
      "Requirement already satisfied: pluggy<2.0,>=0.12 in /opt/conda/lib/python3.10/site-packages (from pytest->dtreeviz) (1.0.0)\r\n",
      "Requirement already satisfied: exceptiongroup>=1.0.0rc8 in /opt/conda/lib/python3.10/site-packages (from pytest->dtreeviz) (1.1.1)\r\n",
      "Requirement already satisfied: tomli>=1.0.0 in /opt/conda/lib/python3.10/site-packages (from pytest->dtreeviz) (2.0.1)\r\n",
      "Requirement already satisfied: scipy>=1.3.2 in /opt/conda/lib/python3.10/site-packages (from scikit-learn->dtreeviz) (1.10.1)\r\n",
      "Requirement already satisfied: joblib>=1.1.1 in /opt/conda/lib/python3.10/site-packages (from scikit-learn->dtreeviz) (1.2.0)\r\n",
      "Requirement already satisfied: threadpoolctl>=2.0.0 in /opt/conda/lib/python3.10/site-packages (from scikit-learn->dtreeviz) (3.1.0)\r\n",
      "Requirement already satisfied: six>=1.5 in /opt/conda/lib/python3.10/site-packages (from python-dateutil>=2.7->matplotlib->dtreeviz) (1.16.0)\r\n",
      "Installing collected packages: colour, dtreeviz\r\n",
      "Successfully installed colour-0.1.5 dtreeviz-2.2.1\r\n",
      "\u001b[33mWARNING: Running pip as the 'root' user can result in broken permissions and conflicting behaviour with the system package manager. It is recommended to use a virtual environment instead: https://pip.pypa.io/warnings/venv\u001b[0m\u001b[33m\r\n",
      "\u001b[0m"
     ]
    }
   ],
   "source": [
    "!pip install dtreeviz"
   ]
  },
  {
   "cell_type": "markdown",
   "id": "1bad30f6",
   "metadata": {
    "papermill": {
     "duration": 0.01808,
     "end_time": "2023-07-09T17:24:50.891526",
     "exception": false,
     "start_time": "2023-07-09T17:24:50.873446",
     "status": "completed"
    },
    "tags": []
   },
   "source": [
    "# Importing Required Libraries"
   ]
  },
  {
   "cell_type": "code",
   "execution_count": 3,
   "id": "7f1438e1",
   "metadata": {
    "execution": {
     "iopub.execute_input": "2023-07-09T17:24:50.929096Z",
     "iopub.status.busy": "2023-07-09T17:24:50.928775Z",
     "iopub.status.idle": "2023-07-09T17:24:52.131745Z",
     "shell.execute_reply": "2023-07-09T17:24:52.130868Z"
    },
    "papermill": {
     "duration": 1.224406,
     "end_time": "2023-07-09T17:24:52.133778",
     "exception": false,
     "start_time": "2023-07-09T17:24:50.909372",
     "status": "completed"
    },
    "tags": []
   },
   "outputs": [],
   "source": [
    "import numpy as np\n",
    "import pandas as pd\n",
    "import matplotlib.pyplot as plt\n",
    "import seaborn as sns\n",
    "%matplotlib inline\n",
    "from sklearn.metrics import accuracy_score\n",
    "from sklearn.model_selection import train_test_split\n",
    "from sklearn.preprocessing import StandardScaler\n",
    "\n",
    "\n",
    "# You can also use this section to suppress warnings generated by your code:\n",
    "def warn(*args, **kwargs):\n",
    "    pass\n",
    "import warnings\n",
    "warnings.warn = warn\n",
    "warnings.filterwarnings('ignore')\n"
   ]
  },
  {
   "cell_type": "markdown",
   "id": "034be696",
   "metadata": {
    "papermill": {
     "duration": 0.018298,
     "end_time": "2023-07-09T17:24:52.170824",
     "exception": false,
     "start_time": "2023-07-09T17:24:52.152526",
     "status": "completed"
    },
    "tags": []
   },
   "source": [
    "## Creating helper function for plotting \n"
   ]
  },
  {
   "cell_type": "code",
   "execution_count": 4,
   "id": "4df3dc71",
   "metadata": {
    "execution": {
     "iopub.execute_input": "2023-07-09T17:24:52.208599Z",
     "iopub.status.busy": "2023-07-09T17:24:52.207427Z",
     "iopub.status.idle": "2023-07-09T17:24:52.217336Z",
     "shell.execute_reply": "2023-07-09T17:24:52.216693Z"
    },
    "papermill": {
     "duration": 0.030332,
     "end_time": "2023-07-09T17:24:52.218802",
     "exception": false,
     "start_time": "2023-07-09T17:24:52.188470",
     "status": "completed"
    },
    "tags": []
   },
   "outputs": [],
   "source": [
    "sns.set(style=\"whitegrid\", color_codes=True)\n",
    "import itertools\n",
    "\n",
    "def plot_confusion_matrix(cm, classes,\n",
    "                          normalize=False,\n",
    "                          title='Confusion matrix',\n",
    "                          cmap=plt.cm.Blues):\n",
    "    \"\"\"\n",
    "    This function prints and plots the confusion matrix.\n",
    "    Normalization can be applied by setting `normalize=True`.\n",
    "    \"\"\"\n",
    "    plt.imshow(cm, interpolation='nearest', cmap=cmap)\n",
    "    plt.title(title)\n",
    "    plt.colorbar()\n",
    "    tick_marks = np.arange(len(classes))\n",
    "    plt.xticks(tick_marks, classes, rotation=45)\n",
    "    plt.yticks(tick_marks, classes)\n",
    "\n",
    "    if normalize:\n",
    "        cm = cm.astype('float') / cm.sum(axis=1)[:, np.newaxis]\n",
    "        print(\"Normalized confusion matrix\")\n",
    "    else:\n",
    "        print('Confusion matrix, without normalization')\n",
    "\n",
    "    print(cm)\n",
    "\n",
    "    thresh = 3*cm.max()/4\n",
    "    for i, j in itertools.product(range(cm.shape[0]), range(cm.shape[1])):\n",
    "        plt.text(j, i, cm[i, j],\n",
    "                 horizontalalignment=\"center\",\n",
    "                 color=\"white\" if cm[i, j] > thresh else \"black\")\n",
    "\n",
    "    plt.tight_layout()\n",
    "    plt.ylabel('True label')\n",
    "    plt.xlabel('Predicted label')"
   ]
  },
  {
   "cell_type": "markdown",
   "id": "43cb3e17",
   "metadata": {
    "papermill": {
     "duration": 0.01803,
     "end_time": "2023-07-09T17:24:52.255083",
     "exception": false,
     "start_time": "2023-07-09T17:24:52.237053",
     "status": "completed"
    },
    "tags": []
   },
   "source": [
    "# Parkinson Data and Voice Disorder\n",
    "\n",
    "## <a href=https://archive.ics.uci.edu/ml/datasets/parkinsons>Voice disorder dataset</a> can be used to detect the presence of Parkinson's disease in an individual. While current tools have limitations in analyzing complex voice disorders, advancements in technology and research have enabled the development of new algorithms that can identify specific acoustic markers associated with Parkinson's disease in voice recordings. Therefore, the analysis of voice disorders can provide valuable information in diagnosing and monitoring Parkinson's disease.\n",
    "\n",
    "\n",
    "\n",
    "## This dataset is composed of a range of biomedical voice measurements from 31 people, 23 with Parkinson's disease (PD).  Our dataset includes voice attributes Information that can be used for detecting parkinson, these information including:\n",
    "\n",
    "\n",
    "## Matrix column entries (attributes):  \n",
    "- name - ASCII subject name and recording number\n",
    "- MDVP:Fo(Hz) - Average vocal fundamental frequency\n",
    "- MDVP:Fhi(Hz) - Maximum vocal fundamental frequency\n",
    "- MDVP:Flo(Hz) - Minimum vocal fundamental frequency\n",
    "- Five measures of variation in Frequency\n",
    "    - MDVP:Jitter(%) - Percentage of cycle-to-cycle variability of the period duration\n",
    "    - MDVP:Jitter(Abs) - Absolute value of cycle-to-cycle variability of the period duration\n",
    "    - MDVP:RAP - Relative measure of the pitch disturbance\n",
    "    - MDVP:PPQ - Pitch perturbation quotient\n",
    "    - Jitter:DDP - Average absolute difference of differences between jitter cycles\n",
    "- Six measures of variation in amplitude\n",
    "    - MDVP:Shimmer - Variations in the voice amplitdue\n",
    "    - MDVP:Shimmer(dB) - Variations in the voice amplitdue in dB\n",
    "    - Shimmer:APQ3 - Three point amplitude perturbation quotient measured against the average of the three amplitude\n",
    "    - Shimmer:APQ5 - Five point amplitude perturbation quotient measured against the average of the three amplitude\n",
    "    - MDVP:APQ - Amplitude perturbation quotient from MDVP\n",
    "    - Shimmer:DDA - Average absolute difference between the amplitudes of consecutive periods\n",
    "- Two measures of ratio of noise to tonal components in the voice\n",
    "    - NHR - Noise-to-harmonics Ratio and \n",
    "    - HNR - Harmonics-to-noise Ratio\n",
    "- status - Health status of the subject (one) - Parkinson's, (zero) - healthy\n",
    "- Two nonlinear dynamical complexity measures\n",
    "    - RPDE - Recurrence period density entropy\n",
    "    - D2 - correlation dimension\n",
    "- DFA - Signal fractal scaling exponent\n",
    "- Three nonlinear measures of fundamental frequency variation\n",
    "    - spread1 - discrete probability distribution of occurrence of relative semitone variations\n",
    "    - spread2 - Three nonlinear measures of fundamental frequency variation\n",
    "    - PPE - Entropy of the discrete probability distribution of occurrence of relative semitone variations\n"
   ]
  },
  {
   "cell_type": "markdown",
   "id": "d7a77840",
   "metadata": {
    "papermill": {
     "duration": 0.017691,
     "end_time": "2023-07-09T17:24:52.291018",
     "exception": false,
     "start_time": "2023-07-09T17:24:52.273327",
     "status": "completed"
    },
    "tags": []
   },
   "source": [
    "# Loading data\n"
   ]
  },
  {
   "cell_type": "code",
   "execution_count": 5,
   "id": "a35f9f91",
   "metadata": {
    "execution": {
     "iopub.execute_input": "2023-07-09T17:24:52.330741Z",
     "iopub.status.busy": "2023-07-09T17:24:52.330166Z",
     "iopub.status.idle": "2023-07-09T17:24:52.373507Z",
     "shell.execute_reply": "2023-07-09T17:24:52.372459Z"
    },
    "papermill": {
     "duration": 0.065123,
     "end_time": "2023-07-09T17:24:52.375276",
     "exception": false,
     "start_time": "2023-07-09T17:24:52.310153",
     "status": "completed"
    },
    "tags": []
   },
   "outputs": [
    {
     "data": {
      "text/html": [
       "<div>\n",
       "<style scoped>\n",
       "    .dataframe tbody tr th:only-of-type {\n",
       "        vertical-align: middle;\n",
       "    }\n",
       "\n",
       "    .dataframe tbody tr th {\n",
       "        vertical-align: top;\n",
       "    }\n",
       "\n",
       "    .dataframe thead th {\n",
       "        text-align: right;\n",
       "    }\n",
       "</style>\n",
       "<table border=\"1\" class=\"dataframe\">\n",
       "  <thead>\n",
       "    <tr style=\"text-align: right;\">\n",
       "      <th></th>\n",
       "      <th>MDVP:Fo(Hz)</th>\n",
       "      <th>MDVP:Fhi(Hz)</th>\n",
       "      <th>MDVP:Flo(Hz)</th>\n",
       "      <th>MDVP:Jitter(%)</th>\n",
       "      <th>MDVP:Jitter(Abs)</th>\n",
       "      <th>MDVP:RAP</th>\n",
       "      <th>MDVP:PPQ</th>\n",
       "      <th>Jitter:DDP</th>\n",
       "      <th>MDVP:Shimmer</th>\n",
       "      <th>MDVP:Shimmer(dB)</th>\n",
       "      <th>...</th>\n",
       "      <th>Shimmer:DDA</th>\n",
       "      <th>NHR</th>\n",
       "      <th>HNR</th>\n",
       "      <th>status</th>\n",
       "      <th>RPDE</th>\n",
       "      <th>DFA</th>\n",
       "      <th>spread1</th>\n",
       "      <th>spread2</th>\n",
       "      <th>D2</th>\n",
       "      <th>PPE</th>\n",
       "    </tr>\n",
       "    <tr>\n",
       "      <th>name</th>\n",
       "      <th></th>\n",
       "      <th></th>\n",
       "      <th></th>\n",
       "      <th></th>\n",
       "      <th></th>\n",
       "      <th></th>\n",
       "      <th></th>\n",
       "      <th></th>\n",
       "      <th></th>\n",
       "      <th></th>\n",
       "      <th></th>\n",
       "      <th></th>\n",
       "      <th></th>\n",
       "      <th></th>\n",
       "      <th></th>\n",
       "      <th></th>\n",
       "      <th></th>\n",
       "      <th></th>\n",
       "      <th></th>\n",
       "      <th></th>\n",
       "      <th></th>\n",
       "    </tr>\n",
       "  </thead>\n",
       "  <tbody>\n",
       "    <tr>\n",
       "      <th>phon_R01_S01_1</th>\n",
       "      <td>119.992</td>\n",
       "      <td>157.302</td>\n",
       "      <td>74.997</td>\n",
       "      <td>0.00784</td>\n",
       "      <td>0.00007</td>\n",
       "      <td>0.00370</td>\n",
       "      <td>0.00554</td>\n",
       "      <td>0.01109</td>\n",
       "      <td>0.04374</td>\n",
       "      <td>0.426</td>\n",
       "      <td>...</td>\n",
       "      <td>0.06545</td>\n",
       "      <td>0.02211</td>\n",
       "      <td>21.033</td>\n",
       "      <td>1</td>\n",
       "      <td>0.414783</td>\n",
       "      <td>0.815285</td>\n",
       "      <td>-4.813031</td>\n",
       "      <td>0.266482</td>\n",
       "      <td>2.301442</td>\n",
       "      <td>0.284654</td>\n",
       "    </tr>\n",
       "    <tr>\n",
       "      <th>phon_R01_S01_2</th>\n",
       "      <td>122.400</td>\n",
       "      <td>148.650</td>\n",
       "      <td>113.819</td>\n",
       "      <td>0.00968</td>\n",
       "      <td>0.00008</td>\n",
       "      <td>0.00465</td>\n",
       "      <td>0.00696</td>\n",
       "      <td>0.01394</td>\n",
       "      <td>0.06134</td>\n",
       "      <td>0.626</td>\n",
       "      <td>...</td>\n",
       "      <td>0.09403</td>\n",
       "      <td>0.01929</td>\n",
       "      <td>19.085</td>\n",
       "      <td>1</td>\n",
       "      <td>0.458359</td>\n",
       "      <td>0.819521</td>\n",
       "      <td>-4.075192</td>\n",
       "      <td>0.335590</td>\n",
       "      <td>2.486855</td>\n",
       "      <td>0.368674</td>\n",
       "    </tr>\n",
       "    <tr>\n",
       "      <th>phon_R01_S01_3</th>\n",
       "      <td>116.682</td>\n",
       "      <td>131.111</td>\n",
       "      <td>111.555</td>\n",
       "      <td>0.01050</td>\n",
       "      <td>0.00009</td>\n",
       "      <td>0.00544</td>\n",
       "      <td>0.00781</td>\n",
       "      <td>0.01633</td>\n",
       "      <td>0.05233</td>\n",
       "      <td>0.482</td>\n",
       "      <td>...</td>\n",
       "      <td>0.08270</td>\n",
       "      <td>0.01309</td>\n",
       "      <td>20.651</td>\n",
       "      <td>1</td>\n",
       "      <td>0.429895</td>\n",
       "      <td>0.825288</td>\n",
       "      <td>-4.443179</td>\n",
       "      <td>0.311173</td>\n",
       "      <td>2.342259</td>\n",
       "      <td>0.332634</td>\n",
       "    </tr>\n",
       "    <tr>\n",
       "      <th>phon_R01_S01_4</th>\n",
       "      <td>116.676</td>\n",
       "      <td>137.871</td>\n",
       "      <td>111.366</td>\n",
       "      <td>0.00997</td>\n",
       "      <td>0.00009</td>\n",
       "      <td>0.00502</td>\n",
       "      <td>0.00698</td>\n",
       "      <td>0.01505</td>\n",
       "      <td>0.05492</td>\n",
       "      <td>0.517</td>\n",
       "      <td>...</td>\n",
       "      <td>0.08771</td>\n",
       "      <td>0.01353</td>\n",
       "      <td>20.644</td>\n",
       "      <td>1</td>\n",
       "      <td>0.434969</td>\n",
       "      <td>0.819235</td>\n",
       "      <td>-4.117501</td>\n",
       "      <td>0.334147</td>\n",
       "      <td>2.405554</td>\n",
       "      <td>0.368975</td>\n",
       "    </tr>\n",
       "    <tr>\n",
       "      <th>phon_R01_S01_5</th>\n",
       "      <td>116.014</td>\n",
       "      <td>141.781</td>\n",
       "      <td>110.655</td>\n",
       "      <td>0.01284</td>\n",
       "      <td>0.00011</td>\n",
       "      <td>0.00655</td>\n",
       "      <td>0.00908</td>\n",
       "      <td>0.01966</td>\n",
       "      <td>0.06425</td>\n",
       "      <td>0.584</td>\n",
       "      <td>...</td>\n",
       "      <td>0.10470</td>\n",
       "      <td>0.01767</td>\n",
       "      <td>19.649</td>\n",
       "      <td>1</td>\n",
       "      <td>0.417356</td>\n",
       "      <td>0.823484</td>\n",
       "      <td>-3.747787</td>\n",
       "      <td>0.234513</td>\n",
       "      <td>2.332180</td>\n",
       "      <td>0.410335</td>\n",
       "    </tr>\n",
       "  </tbody>\n",
       "</table>\n",
       "<p>5 rows × 23 columns</p>\n",
       "</div>"
      ],
      "text/plain": [
       "                MDVP:Fo(Hz)  MDVP:Fhi(Hz)  MDVP:Flo(Hz)  MDVP:Jitter(%)  \\\n",
       "name                                                                      \n",
       "phon_R01_S01_1      119.992       157.302        74.997         0.00784   \n",
       "phon_R01_S01_2      122.400       148.650       113.819         0.00968   \n",
       "phon_R01_S01_3      116.682       131.111       111.555         0.01050   \n",
       "phon_R01_S01_4      116.676       137.871       111.366         0.00997   \n",
       "phon_R01_S01_5      116.014       141.781       110.655         0.01284   \n",
       "\n",
       "                MDVP:Jitter(Abs)  MDVP:RAP  MDVP:PPQ  Jitter:DDP  \\\n",
       "name                                                               \n",
       "phon_R01_S01_1           0.00007   0.00370   0.00554     0.01109   \n",
       "phon_R01_S01_2           0.00008   0.00465   0.00696     0.01394   \n",
       "phon_R01_S01_3           0.00009   0.00544   0.00781     0.01633   \n",
       "phon_R01_S01_4           0.00009   0.00502   0.00698     0.01505   \n",
       "phon_R01_S01_5           0.00011   0.00655   0.00908     0.01966   \n",
       "\n",
       "                MDVP:Shimmer  MDVP:Shimmer(dB)  ...  Shimmer:DDA      NHR  \\\n",
       "name                                            ...                         \n",
       "phon_R01_S01_1       0.04374             0.426  ...      0.06545  0.02211   \n",
       "phon_R01_S01_2       0.06134             0.626  ...      0.09403  0.01929   \n",
       "phon_R01_S01_3       0.05233             0.482  ...      0.08270  0.01309   \n",
       "phon_R01_S01_4       0.05492             0.517  ...      0.08771  0.01353   \n",
       "phon_R01_S01_5       0.06425             0.584  ...      0.10470  0.01767   \n",
       "\n",
       "                   HNR  status      RPDE       DFA   spread1   spread2  \\\n",
       "name                                                                     \n",
       "phon_R01_S01_1  21.033       1  0.414783  0.815285 -4.813031  0.266482   \n",
       "phon_R01_S01_2  19.085       1  0.458359  0.819521 -4.075192  0.335590   \n",
       "phon_R01_S01_3  20.651       1  0.429895  0.825288 -4.443179  0.311173   \n",
       "phon_R01_S01_4  20.644       1  0.434969  0.819235 -4.117501  0.334147   \n",
       "phon_R01_S01_5  19.649       1  0.417356  0.823484 -3.747787  0.234513   \n",
       "\n",
       "                      D2       PPE  \n",
       "name                                \n",
       "phon_R01_S01_1  2.301442  0.284654  \n",
       "phon_R01_S01_2  2.486855  0.368674  \n",
       "phon_R01_S01_3  2.342259  0.332634  \n",
       "phon_R01_S01_4  2.405554  0.368975  \n",
       "phon_R01_S01_5  2.332180  0.410335  \n",
       "\n",
       "[5 rows x 23 columns]"
      ]
     },
     "execution_count": 5,
     "metadata": {},
     "output_type": "execute_result"
    }
   ],
   "source": [
    "data = pd.read_csv(\"/kaggle/input/parkinsons-disease-data-set/parkinsons.data\", sep=',', index_col='name') # assign index column to name \n",
    "data.head()"
   ]
  },
  {
   "cell_type": "markdown",
   "id": "e8c9e52f",
   "metadata": {
    "papermill": {
     "duration": 0.018266,
     "end_time": "2023-07-09T17:24:52.412258",
     "exception": false,
     "start_time": "2023-07-09T17:24:52.393992",
     "status": "completed"
    },
    "tags": []
   },
   "source": [
    "## we can see the number of samples \n"
   ]
  },
  {
   "cell_type": "code",
   "execution_count": 6,
   "id": "2f9a116f",
   "metadata": {
    "execution": {
     "iopub.execute_input": "2023-07-09T17:24:52.450816Z",
     "iopub.status.busy": "2023-07-09T17:24:52.450275Z",
     "iopub.status.idle": "2023-07-09T17:24:52.454571Z",
     "shell.execute_reply": "2023-07-09T17:24:52.453701Z"
    },
    "papermill": {
     "duration": 0.025383,
     "end_time": "2023-07-09T17:24:52.456084",
     "exception": false,
     "start_time": "2023-07-09T17:24:52.430701",
     "status": "completed"
    },
    "tags": []
   },
   "outputs": [
    {
     "name": "stdout",
     "output_type": "stream",
     "text": [
      "(195, 23)\n"
     ]
    }
   ],
   "source": [
    "print(data.shape)"
   ]
  },
  {
   "cell_type": "markdown",
   "id": "f6f849ca",
   "metadata": {
    "papermill": {
     "duration": 0.017916,
     "end_time": "2023-07-09T17:24:52.492043",
     "exception": false,
     "start_time": "2023-07-09T17:24:52.474127",
     "status": "completed"
    },
    "tags": []
   },
   "source": [
    "## To improve our understanding of the variables involved in parkinson detection, we first need to analyze the relationships within the data. Correlation diagrams can be helpful in visualizing how different variables are associated with each other and with parkinson status. Additionally, random forest models can help identify the importance of different features in predicting the target variable (parkinson).\n"
   ]
  },
  {
   "cell_type": "code",
   "execution_count": 7,
   "id": "313f8ed0",
   "metadata": {
    "execution": {
     "iopub.execute_input": "2023-07-09T17:24:52.530063Z",
     "iopub.status.busy": "2023-07-09T17:24:52.529735Z",
     "iopub.status.idle": "2023-07-09T17:24:53.270569Z",
     "shell.execute_reply": "2023-07-09T17:24:53.269798Z"
    },
    "papermill": {
     "duration": 0.761927,
     "end_time": "2023-07-09T17:24:53.272286",
     "exception": false,
     "start_time": "2023-07-09T17:24:52.510359",
     "status": "completed"
    },
    "tags": []
   },
   "outputs": [
    {
     "data": {
      "text/plain": [
       "<Axes: >"
      ]
     },
     "execution_count": 7,
     "metadata": {},
     "output_type": "execute_result"
    },
    {
     "data": {
      "image/png": "[encoded data removed]",
      "text/plain": [
       "<Figure size 1200x1000 with 2 Axes>"
      ]
     },
     "metadata": {},
     "output_type": "display_data"
    }
   ],
   "source": [
    "# creating the correlation matrix\n",
    "plt.figure(figsize=(12, 10))\n",
    "mask = np.triu(np.ones_like(data.corr(), dtype=np.bool))\n",
    "sns.heatmap(data.corr(),vmin=-1, vmax=1,cmap='BrBG', mask=mask)"
   ]
  },
  {
   "cell_type": "code",
   "execution_count": 8,
   "id": "fc2a18e9",
   "metadata": {
    "execution": {
     "iopub.execute_input": "2023-07-09T17:24:53.314984Z",
     "iopub.status.busy": "2023-07-09T17:24:53.314300Z",
     "iopub.status.idle": "2023-07-09T17:24:53.812837Z",
     "shell.execute_reply": "2023-07-09T17:24:53.812216Z"
    },
    "papermill": {
     "duration": 0.521814,
     "end_time": "2023-07-09T17:24:53.814499",
     "exception": false,
     "start_time": "2023-07-09T17:24:53.292685",
     "status": "completed"
    },
    "tags": []
   },
   "outputs": [
    {
     "data": {
      "image/png": "[encoded data removed]",
      "text/plain": [
       "<Figure size 1000x1000 with 2 Axes>"
      ]
     },
     "metadata": {},
     "output_type": "display_data"
    }
   ],
   "source": [
    "# modify the headmap plot to show correlation variables to the status \n",
    "plt.figure(figsize=(10, 10))\n",
    "heatmap = sns.heatmap(data.corr()[['status']].sort_values(by='status', ascending=False), vmin=-1, vmax=1, annot=True, cmap='BrBG')\n",
    "heatmap.set_title('Features Correlating with Parkinson existance', fontdict={'fontsize':18}, pad=16);"
   ]
  },
  {
   "cell_type": "markdown",
   "id": "15361ab1",
   "metadata": {
    "papermill": {
     "duration": 0.020941,
     "end_time": "2023-07-09T17:24:53.857041",
     "exception": false,
     "start_time": "2023-07-09T17:24:53.836100",
     "status": "completed"
    },
    "tags": []
   },
   "source": [
    "## Let's get the  features we select all columns in the dataset except for the `status` column. This is done using the ```drop``` method, which returns a new DataFrame with the specified columns (in this case, 'status') removed. The `axis=1` argument indicates that we're dropping a column, not a row.\n"
   ]
  },
  {
   "cell_type": "code",
   "execution_count": 9,
   "id": "8024f70d",
   "metadata": {
    "execution": {
     "iopub.execute_input": "2023-07-09T17:24:53.901835Z",
     "iopub.status.busy": "2023-07-09T17:24:53.901341Z",
     "iopub.status.idle": "2023-07-09T17:24:53.921535Z",
     "shell.execute_reply": "2023-07-09T17:24:53.920798Z"
    },
    "papermill": {
     "duration": 0.044536,
     "end_time": "2023-07-09T17:24:53.923133",
     "exception": false,
     "start_time": "2023-07-09T17:24:53.878597",
     "status": "completed"
    },
    "tags": []
   },
   "outputs": [
    {
     "data": {
      "text/html": [
       "<div>\n",
       "<style scoped>\n",
       "    .dataframe tbody tr th:only-of-type {\n",
       "        vertical-align: middle;\n",
       "    }\n",
       "\n",
       "    .dataframe tbody tr th {\n",
       "        vertical-align: top;\n",
       "    }\n",
       "\n",
       "    .dataframe thead th {\n",
       "        text-align: right;\n",
       "    }\n",
       "</style>\n",
       "<table border=\"1\" class=\"dataframe\">\n",
       "  <thead>\n",
       "    <tr style=\"text-align: right;\">\n",
       "      <th></th>\n",
       "      <th>MDVP:Fo(Hz)</th>\n",
       "      <th>MDVP:Fhi(Hz)</th>\n",
       "      <th>MDVP:Flo(Hz)</th>\n",
       "      <th>MDVP:Jitter(%)</th>\n",
       "      <th>MDVP:Jitter(Abs)</th>\n",
       "      <th>MDVP:RAP</th>\n",
       "      <th>MDVP:PPQ</th>\n",
       "      <th>Jitter:DDP</th>\n",
       "      <th>MDVP:Shimmer</th>\n",
       "      <th>MDVP:Shimmer(dB)</th>\n",
       "      <th>...</th>\n",
       "      <th>MDVP:APQ</th>\n",
       "      <th>Shimmer:DDA</th>\n",
       "      <th>NHR</th>\n",
       "      <th>HNR</th>\n",
       "      <th>RPDE</th>\n",
       "      <th>DFA</th>\n",
       "      <th>spread1</th>\n",
       "      <th>spread2</th>\n",
       "      <th>D2</th>\n",
       "      <th>PPE</th>\n",
       "    </tr>\n",
       "    <tr>\n",
       "      <th>name</th>\n",
       "      <th></th>\n",
       "      <th></th>\n",
       "      <th></th>\n",
       "      <th></th>\n",
       "      <th></th>\n",
       "      <th></th>\n",
       "      <th></th>\n",
       "      <th></th>\n",
       "      <th></th>\n",
       "      <th></th>\n",
       "      <th></th>\n",
       "      <th></th>\n",
       "      <th></th>\n",
       "      <th></th>\n",
       "      <th></th>\n",
       "      <th></th>\n",
       "      <th></th>\n",
       "      <th></th>\n",
       "      <th></th>\n",
       "      <th></th>\n",
       "      <th></th>\n",
       "    </tr>\n",
       "  </thead>\n",
       "  <tbody>\n",
       "    <tr>\n",
       "      <th>phon_R01_S01_1</th>\n",
       "      <td>119.992</td>\n",
       "      <td>157.302</td>\n",
       "      <td>74.997</td>\n",
       "      <td>0.00784</td>\n",
       "      <td>0.00007</td>\n",
       "      <td>0.00370</td>\n",
       "      <td>0.00554</td>\n",
       "      <td>0.01109</td>\n",
       "      <td>0.04374</td>\n",
       "      <td>0.426</td>\n",
       "      <td>...</td>\n",
       "      <td>0.02971</td>\n",
       "      <td>0.06545</td>\n",
       "      <td>0.02211</td>\n",
       "      <td>21.033</td>\n",
       "      <td>0.414783</td>\n",
       "      <td>0.815285</td>\n",
       "      <td>-4.813031</td>\n",
       "      <td>0.266482</td>\n",
       "      <td>2.301442</td>\n",
       "      <td>0.284654</td>\n",
       "    </tr>\n",
       "    <tr>\n",
       "      <th>phon_R01_S01_2</th>\n",
       "      <td>122.400</td>\n",
       "      <td>148.650</td>\n",
       "      <td>113.819</td>\n",
       "      <td>0.00968</td>\n",
       "      <td>0.00008</td>\n",
       "      <td>0.00465</td>\n",
       "      <td>0.00696</td>\n",
       "      <td>0.01394</td>\n",
       "      <td>0.06134</td>\n",
       "      <td>0.626</td>\n",
       "      <td>...</td>\n",
       "      <td>0.04368</td>\n",
       "      <td>0.09403</td>\n",
       "      <td>0.01929</td>\n",
       "      <td>19.085</td>\n",
       "      <td>0.458359</td>\n",
       "      <td>0.819521</td>\n",
       "      <td>-4.075192</td>\n",
       "      <td>0.335590</td>\n",
       "      <td>2.486855</td>\n",
       "      <td>0.368674</td>\n",
       "    </tr>\n",
       "    <tr>\n",
       "      <th>phon_R01_S01_3</th>\n",
       "      <td>116.682</td>\n",
       "      <td>131.111</td>\n",
       "      <td>111.555</td>\n",
       "      <td>0.01050</td>\n",
       "      <td>0.00009</td>\n",
       "      <td>0.00544</td>\n",
       "      <td>0.00781</td>\n",
       "      <td>0.01633</td>\n",
       "      <td>0.05233</td>\n",
       "      <td>0.482</td>\n",
       "      <td>...</td>\n",
       "      <td>0.03590</td>\n",
       "      <td>0.08270</td>\n",
       "      <td>0.01309</td>\n",
       "      <td>20.651</td>\n",
       "      <td>0.429895</td>\n",
       "      <td>0.825288</td>\n",
       "      <td>-4.443179</td>\n",
       "      <td>0.311173</td>\n",
       "      <td>2.342259</td>\n",
       "      <td>0.332634</td>\n",
       "    </tr>\n",
       "    <tr>\n",
       "      <th>phon_R01_S01_4</th>\n",
       "      <td>116.676</td>\n",
       "      <td>137.871</td>\n",
       "      <td>111.366</td>\n",
       "      <td>0.00997</td>\n",
       "      <td>0.00009</td>\n",
       "      <td>0.00502</td>\n",
       "      <td>0.00698</td>\n",
       "      <td>0.01505</td>\n",
       "      <td>0.05492</td>\n",
       "      <td>0.517</td>\n",
       "      <td>...</td>\n",
       "      <td>0.03772</td>\n",
       "      <td>0.08771</td>\n",
       "      <td>0.01353</td>\n",
       "      <td>20.644</td>\n",
       "      <td>0.434969</td>\n",
       "      <td>0.819235</td>\n",
       "      <td>-4.117501</td>\n",
       "      <td>0.334147</td>\n",
       "      <td>2.405554</td>\n",
       "      <td>0.368975</td>\n",
       "    </tr>\n",
       "    <tr>\n",
       "      <th>phon_R01_S01_5</th>\n",
       "      <td>116.014</td>\n",
       "      <td>141.781</td>\n",
       "      <td>110.655</td>\n",
       "      <td>0.01284</td>\n",
       "      <td>0.00011</td>\n",
       "      <td>0.00655</td>\n",
       "      <td>0.00908</td>\n",
       "      <td>0.01966</td>\n",
       "      <td>0.06425</td>\n",
       "      <td>0.584</td>\n",
       "      <td>...</td>\n",
       "      <td>0.04465</td>\n",
       "      <td>0.10470</td>\n",
       "      <td>0.01767</td>\n",
       "      <td>19.649</td>\n",
       "      <td>0.417356</td>\n",
       "      <td>0.823484</td>\n",
       "      <td>-3.747787</td>\n",
       "      <td>0.234513</td>\n",
       "      <td>2.332180</td>\n",
       "      <td>0.410335</td>\n",
       "    </tr>\n",
       "  </tbody>\n",
       "</table>\n",
       "<p>5 rows × 22 columns</p>\n",
       "</div>"
      ],
      "text/plain": [
       "                MDVP:Fo(Hz)  MDVP:Fhi(Hz)  MDVP:Flo(Hz)  MDVP:Jitter(%)  \\\n",
       "name                                                                      \n",
       "phon_R01_S01_1      119.992       157.302        74.997         0.00784   \n",
       "phon_R01_S01_2      122.400       148.650       113.819         0.00968   \n",
       "phon_R01_S01_3      116.682       131.111       111.555         0.01050   \n",
       "phon_R01_S01_4      116.676       137.871       111.366         0.00997   \n",
       "phon_R01_S01_5      116.014       141.781       110.655         0.01284   \n",
       "\n",
       "                MDVP:Jitter(Abs)  MDVP:RAP  MDVP:PPQ  Jitter:DDP  \\\n",
       "name                                                               \n",
       "phon_R01_S01_1           0.00007   0.00370   0.00554     0.01109   \n",
       "phon_R01_S01_2           0.00008   0.00465   0.00696     0.01394   \n",
       "phon_R01_S01_3           0.00009   0.00544   0.00781     0.01633   \n",
       "phon_R01_S01_4           0.00009   0.00502   0.00698     0.01505   \n",
       "phon_R01_S01_5           0.00011   0.00655   0.00908     0.01966   \n",
       "\n",
       "                MDVP:Shimmer  MDVP:Shimmer(dB)  ...  MDVP:APQ  Shimmer:DDA  \\\n",
       "name                                            ...                          \n",
       "phon_R01_S01_1       0.04374             0.426  ...   0.02971      0.06545   \n",
       "phon_R01_S01_2       0.06134             0.626  ...   0.04368      0.09403   \n",
       "phon_R01_S01_3       0.05233             0.482  ...   0.03590      0.08270   \n",
       "phon_R01_S01_4       0.05492             0.517  ...   0.03772      0.08771   \n",
       "phon_R01_S01_5       0.06425             0.584  ...   0.04465      0.10470   \n",
       "\n",
       "                    NHR     HNR      RPDE       DFA   spread1   spread2  \\\n",
       "name                                                                      \n",
       "phon_R01_S01_1  0.02211  21.033  0.414783  0.815285 -4.813031  0.266482   \n",
       "phon_R01_S01_2  0.01929  19.085  0.458359  0.819521 -4.075192  0.335590   \n",
       "phon_R01_S01_3  0.01309  20.651  0.429895  0.825288 -4.443179  0.311173   \n",
       "phon_R01_S01_4  0.01353  20.644  0.434969  0.819235 -4.117501  0.334147   \n",
       "phon_R01_S01_5  0.01767  19.649  0.417356  0.823484 -3.747787  0.234513   \n",
       "\n",
       "                      D2       PPE  \n",
       "name                                \n",
       "phon_R01_S01_1  2.301442  0.284654  \n",
       "phon_R01_S01_2  2.486855  0.368674  \n",
       "phon_R01_S01_3  2.342259  0.332634  \n",
       "phon_R01_S01_4  2.405554  0.368975  \n",
       "phon_R01_S01_5  2.332180  0.410335  \n",
       "\n",
       "[5 rows x 22 columns]"
      ]
     },
     "execution_count": 9,
     "metadata": {},
     "output_type": "execute_result"
    }
   ],
   "source": [
    "X = data.drop('status', axis=1)\n",
    "X.head()"
   ]
  },
  {
   "cell_type": "markdown",
   "id": "10c8811e",
   "metadata": {
    "papermill": {
     "duration": 0.021694,
     "end_time": "2023-07-09T17:24:53.966564",
     "exception": false,
     "start_time": "2023-07-09T17:24:53.944870",
     "status": "completed"
    },
    "tags": []
   },
   "source": [
    "## The   Health status of the subject (one) - Parkinson's, (zero) - healthy  is given in the ```status``` column:\n"
   ]
  },
  {
   "cell_type": "code",
   "execution_count": 10,
   "id": "2d8db813",
   "metadata": {
    "execution": {
     "iopub.execute_input": "2023-07-09T17:24:54.012865Z",
     "iopub.status.busy": "2023-07-09T17:24:54.012256Z",
     "iopub.status.idle": "2023-07-09T17:24:54.018453Z",
     "shell.execute_reply": "2023-07-09T17:24:54.017746Z"
    },
    "papermill": {
     "duration": 0.032014,
     "end_time": "2023-07-09T17:24:54.020398",
     "exception": false,
     "start_time": "2023-07-09T17:24:53.988384",
     "status": "completed"
    },
    "tags": []
   },
   "outputs": [
    {
     "data": {
      "text/plain": [
       "name\n",
       "phon_R01_S01_1    1\n",
       "phon_R01_S01_2    1\n",
       "phon_R01_S01_3    1\n",
       "phon_R01_S01_4    1\n",
       "phon_R01_S01_5    1\n",
       "Name: status, dtype: int64"
      ]
     },
     "execution_count": 10,
     "metadata": {},
     "output_type": "execute_result"
    }
   ],
   "source": [
    "y=data['status']\n",
    "y.head()"
   ]
  },
  {
   "cell_type": "markdown",
   "id": "da224ba2",
   "metadata": {
    "papermill": {
     "duration": 0.020778,
     "end_time": "2023-07-09T17:24:54.063070",
     "exception": false,
     "start_time": "2023-07-09T17:24:54.042292",
     "status": "completed"
    },
    "tags": []
   },
   "source": [
    "### we can see that 3/4 of the samples are have Parkinson's\n"
   ]
  },
  {
   "cell_type": "code",
   "execution_count": 11,
   "id": "5e3c6316",
   "metadata": {
    "execution": {
     "iopub.execute_input": "2023-07-09T17:24:54.107501Z",
     "iopub.status.busy": "2023-07-09T17:24:54.107161Z",
     "iopub.status.idle": "2023-07-09T17:24:54.115013Z",
     "shell.execute_reply": "2023-07-09T17:24:54.114115Z"
    },
    "papermill": {
     "duration": 0.031299,
     "end_time": "2023-07-09T17:24:54.116605",
     "exception": false,
     "start_time": "2023-07-09T17:24:54.085306",
     "status": "completed"
    },
    "tags": []
   },
   "outputs": [
    {
     "data": {
      "text/plain": [
       "1    0.753846\n",
       "0    0.246154\n",
       "Name: status, dtype: float64"
      ]
     },
     "execution_count": 11,
     "metadata": {},
     "output_type": "execute_result"
    }
   ],
   "source": [
    "y.value_counts(normalize=True)"
   ]
  },
  {
   "cell_type": "markdown",
   "id": "70e99860",
   "metadata": {
    "papermill": {
     "duration": 0.020521,
     "end_time": "2023-07-09T17:24:54.158022",
     "exception": false,
     "start_time": "2023-07-09T17:24:54.137501",
     "status": "completed"
    },
    "tags": []
   },
   "source": [
    "## t-SNE (t-Distributed Stochastic Neighbor Embedding) is a machine learning technique used for dimensionality reduction and visualization of high-dimensional datasets. It is particularly useful for visualizing complex data structures, as it helps to project the data points from a high-dimensional space to a lower-dimensional space (usually 2D or 3D) while preserving the relationships between the data points as much as possible. Lets apply it to our dataset:\n"
   ]
  },
  {
   "cell_type": "code",
   "execution_count": 12,
   "id": "04da7d91",
   "metadata": {
    "execution": {
     "iopub.execute_input": "2023-07-09T17:24:54.201010Z",
     "iopub.status.busy": "2023-07-09T17:24:54.200520Z",
     "iopub.status.idle": "2023-07-09T17:24:55.498979Z",
     "shell.execute_reply": "2023-07-09T17:24:55.498209Z"
    },
    "papermill": {
     "duration": 1.322275,
     "end_time": "2023-07-09T17:24:55.500889",
     "exception": false,
     "start_time": "2023-07-09T17:24:54.178614",
     "status": "completed"
    },
    "tags": []
   },
   "outputs": [
    {
     "data": {
      "image/png": "[encoded data removed]",
      "text/plain": [
       "<Figure size 800x600 with 1 Axes>"
      ]
     },
     "metadata": {},
     "output_type": "display_data"
    }
   ],
   "source": [
    "import seaborn as sns\n",
    "from sklearn.manifold import TSNE\n",
    "\n",
    "# Apply t-SNE to reduce the dimensions to 2\n",
    "tsne = TSNE(n_components=2, random_state=42)\n",
    "X_tsne = tsne.fit_transform(X)\n",
    "\n",
    "# Create a DataFrame with the t-SNE-transformed data and class labels\n",
    "tsne_df = pd.DataFrame(data=X_tsne, columns=['TSNE1', 'TSNE2'])\n",
    "tsne_df['Class'] = y.values\n",
    "\n",
    "# Visualize the data based on class using a scatter plot\n",
    "plt.figure(figsize=(8, 6))\n",
    "sns.scatterplot(data=tsne_df, x='TSNE1', y='TSNE2', hue='Class', palette='Set2')\n",
    "plt.title('t-SNE Visualization')\n",
    "plt.show()"
   ]
  },
  {
   "cell_type": "markdown",
   "id": "ba254c7e",
   "metadata": {
    "papermill": {
     "duration": 0.021152,
     "end_time": "2023-07-09T17:24:55.546525",
     "exception": false,
     "start_time": "2023-07-09T17:24:55.525373",
     "status": "completed"
    },
    "tags": []
   },
   "source": [
    "# Data preparation\n",
    "\n",
    "## Here, we are splitting a dataset into independent and dependent variables, and then splitting it further into training and testing sets.\n"
   ]
  },
  {
   "cell_type": "code",
   "execution_count": 13,
   "id": "91deac68",
   "metadata": {
    "execution": {
     "iopub.execute_input": "2023-07-09T17:24:55.593822Z",
     "iopub.status.busy": "2023-07-09T17:24:55.593233Z",
     "iopub.status.idle": "2023-07-09T17:24:55.600054Z",
     "shell.execute_reply": "2023-07-09T17:24:55.599227Z"
    },
    "papermill": {
     "duration": 0.032784,
     "end_time": "2023-07-09T17:24:55.601742",
     "exception": false,
     "start_time": "2023-07-09T17:24:55.568958",
     "status": "completed"
    },
    "tags": []
   },
   "outputs": [
    {
     "name": "stdout",
     "output_type": "stream",
     "text": [
      "X_train shape:  (136, 22)\n",
      "y_train shape:  (136,)\n",
      "X_test shape:  (59, 22)\n",
      "y_test shape:  (59,)\n"
     ]
    }
   ],
   "source": [
    "# Split the data into train and test sets\n",
    "X_train, X_test, y_train, y_test = train_test_split(X, y, test_size=0.3, random_state=11)\n",
    "\n",
    "\n",
    "# print the shape of train and test data\n",
    "print(\"X_train shape: \", X_train.shape)\n",
    "print(\"y_train shape: \", y_train.shape)\n",
    "print(\"X_test shape: \", X_test.shape)\n",
    "print(\"y_test shape: \", y_test.shape)"
   ]
  },
  {
   "cell_type": "markdown",
   "id": "92a58736",
   "metadata": {
    "papermill": {
     "duration": 0.022203,
     "end_time": "2023-07-09T17:24:55.646463",
     "exception": false,
     "start_time": "2023-07-09T17:24:55.624260",
     "status": "completed"
    },
    "tags": []
   },
   "source": [
    "# k-Nearest Neighbors (k-NN)\n"
   ]
  },
  {
   "cell_type": "markdown",
   "id": "36a827bf",
   "metadata": {
    "papermill": {
     "duration": 0.021707,
     "end_time": "2023-07-09T17:24:55.690648",
     "exception": false,
     "start_time": "2023-07-09T17:24:55.668941",
     "status": "completed"
    },
    "tags": []
   },
   "source": [
    "## K-NN \n"
   ]
  },
  {
   "cell_type": "markdown",
   "id": "7eb05c95",
   "metadata": {
    "papermill": {
     "duration": 0.022094,
     "end_time": "2023-07-09T17:24:55.734958",
     "exception": false,
     "start_time": "2023-07-09T17:24:55.712864",
     "status": "completed"
    },
    "tags": []
   },
   "source": [
    "## In k-NN, the basic idea is to predict the label of a new instance based on the labels of its k nearest neighbors in the training data. \n",
    "\n",
    "## We import the library \n"
   ]
  },
  {
   "cell_type": "code",
   "execution_count": 14,
   "id": "0fb44a95",
   "metadata": {
    "execution": {
     "iopub.execute_input": "2023-07-09T17:24:55.780592Z",
     "iopub.status.busy": "2023-07-09T17:24:55.780014Z",
     "iopub.status.idle": "2023-07-09T17:24:55.784048Z",
     "shell.execute_reply": "2023-07-09T17:24:55.783353Z"
    },
    "papermill": {
     "duration": 0.028593,
     "end_time": "2023-07-09T17:24:55.785631",
     "exception": false,
     "start_time": "2023-07-09T17:24:55.757038",
     "status": "completed"
    },
    "tags": []
   },
   "outputs": [],
   "source": [
    "from sklearn.neighbors import KNeighborsClassifier"
   ]
  },
  {
   "cell_type": "markdown",
   "id": "ae4bab1f",
   "metadata": {
    "papermill": {
     "duration": 0.021909,
     "end_time": "2023-07-09T17:24:55.829843",
     "exception": false,
     "start_time": "2023-07-09T17:24:55.807934",
     "status": "completed"
    },
    "tags": []
   },
   "source": [
    "## we create a knn object \n"
   ]
  },
  {
   "cell_type": "code",
   "execution_count": 15,
   "id": "bf468090",
   "metadata": {
    "execution": {
     "iopub.execute_input": "2023-07-09T17:24:55.875737Z",
     "iopub.status.busy": "2023-07-09T17:24:55.875150Z",
     "iopub.status.idle": "2023-07-09T17:24:55.879065Z",
     "shell.execute_reply": "2023-07-09T17:24:55.878443Z"
    },
    "papermill": {
     "duration": 0.028941,
     "end_time": "2023-07-09T17:24:55.880867",
     "exception": false,
     "start_time": "2023-07-09T17:24:55.851926",
     "status": "completed"
    },
    "tags": []
   },
   "outputs": [],
   "source": [
    "knn = KNeighborsClassifier(n_neighbors=3)"
   ]
  },
  {
   "cell_type": "markdown",
   "id": "adb2aafc",
   "metadata": {
    "papermill": {
     "duration": 0.021887,
     "end_time": "2023-07-09T17:24:55.926830",
     "exception": false,
     "start_time": "2023-07-09T17:24:55.904943",
     "status": "completed"
    },
    "tags": []
   },
   "source": [
    "## we fit the object\n"
   ]
  },
  {
   "cell_type": "code",
   "execution_count": 16,
   "id": "77d7a405",
   "metadata": {
    "execution": {
     "iopub.execute_input": "2023-07-09T17:24:55.974010Z",
     "iopub.status.busy": "2023-07-09T17:24:55.973161Z",
     "iopub.status.idle": "2023-07-09T17:24:55.985214Z",
     "shell.execute_reply": "2023-07-09T17:24:55.984595Z"
    },
    "papermill": {
     "duration": 0.037657,
     "end_time": "2023-07-09T17:24:55.986844",
     "exception": false,
     "start_time": "2023-07-09T17:24:55.949187",
     "status": "completed"
    },
    "tags": []
   },
   "outputs": [
    {
     "data": {
      "text/html": [
       "<style>#sk-container-id-1 {color: black;background-color: white;}#sk-container-id-1 pre{padding: 0;}#sk-container-id-1 div.sk-toggleable {background-color: white;}#sk-container-id-1 label.sk-toggleable__label {cursor: pointer;display: block;width: 100%;margin-bottom: 0;padding: 0.3em;box-sizing: border-box;text-align: center;}#sk-container-id-1 label.sk-toggleable__label-arrow:before {content: \"▸\";float: left;margin-right: 0.25em;color: #696969;}#sk-container-id-1 label.sk-toggleable__label-arrow:hover:before {color: black;}#sk-container-id-1 div.sk-estimator:hover label.sk-toggleable__label-arrow:before {color: black;}#sk-container-id-1 div.sk-toggleable__content {max-height: 0;max-width: 0;overflow: hidden;text-align: left;background-color: #f0f8ff;}#sk-container-id-1 div.sk-toggleable__content pre {margin: 0.2em;color: black;border-radius: 0.25em;background-color: #f0f8ff;}#sk-container-id-1 input.sk-toggleable__control:checked~div.sk-toggleable__content {max-height: 200px;max-width: 100%;overflow: auto;}#sk-container-id-1 input.sk-toggleable__control:checked~label.sk-toggleable__label-arrow:before {content: \"▾\";}#sk-container-id-1 div.sk-estimator input.sk-toggleable__control:checked~label.sk-toggleable__label {background-color: #d4ebff;}#sk-container-id-1 div.sk-label input.sk-toggleable__control:checked~label.sk-toggleable__label {background-color: #d4ebff;}#sk-container-id-1 input.sk-hidden--visually {border: 0;clip: rect(1px 1px 1px 1px);clip: rect(1px, 1px, 1px, 1px);height: 1px;margin: -1px;overflow: hidden;padding: 0;position: absolute;width: 1px;}#sk-container-id-1 div.sk-estimator {font-family: monospace;background-color: #f0f8ff;border: 1px dotted black;border-radius: 0.25em;box-sizing: border-box;margin-bottom: 0.5em;}#sk-container-id-1 div.sk-estimator:hover {background-color: #d4ebff;}#sk-container-id-1 div.sk-parallel-item::after {content: \"\";width: 100%;border-bottom: 1px solid gray;flex-grow: 1;}#sk-container-id-1 div.sk-label:hover label.sk-toggleable__label {background-color: #d4ebff;}#sk-container-id-1 div.sk-serial::before {content: \"\";position: absolute;border-left: 1px solid gray;box-sizing: border-box;top: 0;bottom: 0;left: 50%;z-index: 0;}#sk-container-id-1 div.sk-serial {display: flex;flex-direction: column;align-items: center;background-color: white;padding-right: 0.2em;padding-left: 0.2em;position: relative;}#sk-container-id-1 div.sk-item {position: relative;z-index: 1;}#sk-container-id-1 div.sk-parallel {display: flex;align-items: stretch;justify-content: center;background-color: white;position: relative;}#sk-container-id-1 div.sk-item::before, #sk-container-id-1 div.sk-parallel-item::before {content: \"\";position: absolute;border-left: 1px solid gray;box-sizing: border-box;top: 0;bottom: 0;left: 50%;z-index: -1;}#sk-container-id-1 div.sk-parallel-item {display: flex;flex-direction: column;z-index: 1;position: relative;background-color: white;}#sk-container-id-1 div.sk-parallel-item:first-child::after {align-self: flex-end;width: 50%;}#sk-container-id-1 div.sk-parallel-item:last-child::after {align-self: flex-start;width: 50%;}#sk-container-id-1 div.sk-parallel-item:only-child::after {width: 0;}#sk-container-id-1 div.sk-dashed-wrapped {border: 1px dashed gray;margin: 0 0.4em 0.5em 0.4em;box-sizing: border-box;padding-bottom: 0.4em;background-color: white;}#sk-container-id-1 div.sk-label label {font-family: monospace;font-weight: bold;display: inline-block;line-height: 1.2em;}#sk-container-id-1 div.sk-label-container {text-align: center;}#sk-container-id-1 div.sk-container {/* jupyter's `normalize.less` sets `[hidden] { display: none; }` but bootstrap.min.css set `[hidden] { display: none !important; }` so we also need the `!important` here to be able to override the default hidden behavior on the sphinx rendered scikit-learn.org. See: https://github.com/scikit-learn/scikit-learn/issues/21755 */display: inline-block !important;position: relative;}#sk-container-id-1 div.sk-text-repr-fallback {display: none;}</style><div id=\"sk-container-id-1\" class=\"sk-top-container\"><div class=\"sk-text-repr-fallback\"><pre>KNeighborsClassifier(n_neighbors=3)</pre><b>In a Jupyter environment, please rerun this cell to show the HTML representation or trust the notebook. <br />On GitHub, the HTML representation is unable to render, please try loading this page with nbviewer.org.</b></div><div class=\"sk-container\" hidden><div class=\"sk-item\"><div class=\"sk-estimator sk-toggleable\"><input class=\"sk-toggleable__control sk-hidden--visually\" id=\"sk-estimator-id-1\" type=\"checkbox\" checked><label for=\"sk-estimator-id-1\" class=\"sk-toggleable__label sk-toggleable__label-arrow\">KNeighborsClassifier</label><div class=\"sk-toggleable__content\"><pre>KNeighborsClassifier(n_neighbors=3)</pre></div></div></div></div></div>"
      ],
      "text/plain": [
       "KNeighborsClassifier(n_neighbors=3)"
      ]
     },
     "execution_count": 16,
     "metadata": {},
     "output_type": "execute_result"
    }
   ],
   "source": [
    "knn.fit(X_train, y_train)"
   ]
  },
  {
   "cell_type": "markdown",
   "id": "2fbb5788",
   "metadata": {
    "papermill": {
     "duration": 0.02247,
     "end_time": "2023-07-09T17:24:56.031993",
     "exception": false,
     "start_time": "2023-07-09T17:24:56.009523",
     "status": "completed"
    },
    "tags": []
   },
   "source": [
    "## Make predictions on the testing data\n"
   ]
  },
  {
   "cell_type": "code",
   "execution_count": 17,
   "id": "7820543c",
   "metadata": {
    "execution": {
     "iopub.execute_input": "2023-07-09T17:24:56.079142Z",
     "iopub.status.busy": "2023-07-09T17:24:56.078540Z",
     "iopub.status.idle": "2023-07-09T17:24:56.095569Z",
     "shell.execute_reply": "2023-07-09T17:24:56.094713Z"
    },
    "papermill": {
     "duration": 0.042458,
     "end_time": "2023-07-09T17:24:56.097263",
     "exception": false,
     "start_time": "2023-07-09T17:24:56.054805",
     "status": "completed"
    },
    "tags": []
   },
   "outputs": [
    {
     "data": {
      "text/plain": [
       "array([1, 0, 1, 1, 1, 1, 1, 0, 0, 0])"
      ]
     },
     "execution_count": 17,
     "metadata": {},
     "output_type": "execute_result"
    }
   ],
   "source": [
    "y_pred = knn.predict(X_test)\n",
    "y_pred[0:10]"
   ]
  },
  {
   "cell_type": "markdown",
   "id": "b9a91e71",
   "metadata": {
    "papermill": {
     "duration": 0.021674,
     "end_time": "2023-07-09T17:24:56.141810",
     "exception": false,
     "start_time": "2023-07-09T17:24:56.120136",
     "status": "completed"
    },
    "tags": []
   },
   "source": [
    "## We can  get a probability of belonging to a each class for each sample, here are the first ten\n"
   ]
  },
  {
   "cell_type": "code",
   "execution_count": 18,
   "id": "aaf2111e",
   "metadata": {
    "execution": {
     "iopub.execute_input": "2023-07-09T17:24:56.187221Z",
     "iopub.status.busy": "2023-07-09T17:24:56.186893Z",
     "iopub.status.idle": "2023-07-09T17:24:56.196283Z",
     "shell.execute_reply": "2023-07-09T17:24:56.195490Z"
    },
    "papermill": {
     "duration": 0.036723,
     "end_time": "2023-07-09T17:24:56.200659",
     "exception": false,
     "start_time": "2023-07-09T17:24:56.163936",
     "status": "completed"
    },
    "tags": []
   },
   "outputs": [
    {
     "data": {
      "text/plain": [
       "array([[0.33333333, 0.66666667],\n",
       "       [0.66666667, 0.33333333],\n",
       "       [0.33333333, 0.66666667],\n",
       "       [0.33333333, 0.66666667],\n",
       "       [0.        , 1.        ],\n",
       "       [0.33333333, 0.66666667],\n",
       "       [0.        , 1.        ],\n",
       "       [1.        , 0.        ],\n",
       "       [1.        , 0.        ],\n",
       "       [1.        , 0.        ]])"
      ]
     },
     "execution_count": 18,
     "metadata": {},
     "output_type": "execute_result"
    }
   ],
   "source": [
    "knn.predict_proba(X_test)[0:10]"
   ]
  },
  {
   "cell_type": "markdown",
   "id": "024aae81",
   "metadata": {
    "papermill": {
     "duration": 0.021553,
     "end_time": "2023-07-09T17:24:56.244174",
     "exception": false,
     "start_time": "2023-07-09T17:24:56.222621",
     "status": "completed"
    },
    "tags": []
   },
   "source": [
    "## The confusion matrix is a table that shows the number of true positive, true negative, false positive, and false negative predictions. The classification report provides the precision, recall, F1-score, and support for each class, which are important metrics for evaluating the performance of a classifier. The accuracy score is a simple metric that calculates the proportion of correct predictions out of the total predictions made by the model. These three elements together provide a comprehensive evaluation of the classifier's performance on the test dataset. Let's prints the confusion matrix, classification report, and accuracy score for a given classification model.\n"
   ]
  },
  {
   "cell_type": "code",
   "execution_count": 19,
   "id": "3fe7a47f",
   "metadata": {
    "execution": {
     "iopub.execute_input": "2023-07-09T17:24:56.289885Z",
     "iopub.status.busy": "2023-07-09T17:24:56.289052Z",
     "iopub.status.idle": "2023-07-09T17:24:56.293000Z",
     "shell.execute_reply": "2023-07-09T17:24:56.292355Z"
    },
    "papermill": {
     "duration": 0.028545,
     "end_time": "2023-07-09T17:24:56.294741",
     "exception": false,
     "start_time": "2023-07-09T17:24:56.266196",
     "status": "completed"
    },
    "tags": []
   },
   "outputs": [],
   "source": [
    "from sklearn.metrics import classification_report, confusion_matrix, accuracy_score "
   ]
  },
  {
   "cell_type": "code",
   "execution_count": 20,
   "id": "0d89b984",
   "metadata": {
    "execution": {
     "iopub.execute_input": "2023-07-09T17:24:56.341499Z",
     "iopub.status.busy": "2023-07-09T17:24:56.340974Z",
     "iopub.status.idle": "2023-07-09T17:24:56.617411Z",
     "shell.execute_reply": "2023-07-09T17:24:56.616490Z"
    },
    "papermill": {
     "duration": 0.301185,
     "end_time": "2023-07-09T17:24:56.619089",
     "exception": false,
     "start_time": "2023-07-09T17:24:56.317904",
     "status": "completed"
    },
    "tags": []
   },
   "outputs": [
    {
     "name": "stdout",
     "output_type": "stream",
     "text": [
      "Confusion matrix, without normalization\n",
      "[[ 9  3]\n",
      " [ 5 42]]\n"
     ]
    },
    {
     "data": {
      "image/png": "[encoded data removed]",
      "text/plain": [
       "<Figure size 640x480 with 2 Axes>"
      ]
     },
     "metadata": {},
     "output_type": "display_data"
    }
   ],
   "source": [
    "plot_confusion_matrix(confusion_matrix(y_test, y_pred),classes=[ \"Not Parkinson\", \" Parkinson\"],title='Confusion matrix')"
   ]
  },
  {
   "cell_type": "code",
   "execution_count": 21,
   "id": "1e2216f3",
   "metadata": {
    "execution": {
     "iopub.execute_input": "2023-07-09T17:24:56.665275Z",
     "iopub.status.busy": "2023-07-09T17:24:56.664995Z",
     "iopub.status.idle": "2023-07-09T17:24:56.677379Z",
     "shell.execute_reply": "2023-07-09T17:24:56.676256Z"
    },
    "papermill": {
     "duration": 0.037572,
     "end_time": "2023-07-09T17:24:56.679111",
     "exception": false,
     "start_time": "2023-07-09T17:24:56.641539",
     "status": "completed"
    },
    "tags": []
   },
   "outputs": [
    {
     "name": "stdout",
     "output_type": "stream",
     "text": [
      "\n",
      "Classification Report:\n",
      "               precision    recall  f1-score   support\n",
      "\n",
      "           0       0.64      0.75      0.69        12\n",
      "           1       0.93      0.89      0.91        47\n",
      "\n",
      "    accuracy                           0.86        59\n",
      "   macro avg       0.79      0.82      0.80        59\n",
      "weighted avg       0.87      0.86      0.87        59\n",
      "\n",
      "\n",
      "Accuracy Score: 0.864406779661017\n"
     ]
    }
   ],
   "source": [
    "print(\"\\nClassification Report:\\n\", classification_report(y_test, y_pred))\n",
    "print(\"\\nAccuracy Score:\", accuracy_score(y_test, y_pred))"
   ]
  },
  {
   "cell_type": "markdown",
   "id": "920aef47",
   "metadata": {
    "papermill": {
     "duration": 0.021878,
     "end_time": "2023-07-09T17:24:56.723682",
     "exception": false,
     "start_time": "2023-07-09T17:24:56.701804",
     "status": "completed"
    },
    "tags": []
   },
   "source": [
    "# GridSearchCV\n"
   ]
  },
  {
   "cell_type": "markdown",
   "id": "b4bb577f",
   "metadata": {
    "papermill": {
     "duration": 0.022234,
     "end_time": "2023-07-09T17:24:56.768135",
     "exception": false,
     "start_time": "2023-07-09T17:24:56.745901",
     "status": "completed"
    },
    "tags": []
   },
   "source": [
    "### In the code above, we randomly selected the hyperparameter ```K``` for our KNN classifier. However, in order to find the optimal hyperparameters that maximize the performance metric, we will perform a grid search. To do this, we define a parameter grid that we will search over for ```K```.\n"
   ]
  },
  {
   "cell_type": "code",
   "execution_count": 22,
   "id": "e1ece9ba",
   "metadata": {
    "execution": {
     "iopub.execute_input": "2023-07-09T17:24:56.814349Z",
     "iopub.status.busy": "2023-07-09T17:24:56.814026Z",
     "iopub.status.idle": "2023-07-09T17:24:56.817707Z",
     "shell.execute_reply": "2023-07-09T17:24:56.816909Z"
    },
    "papermill": {
     "duration": 0.029105,
     "end_time": "2023-07-09T17:24:56.819691",
     "exception": false,
     "start_time": "2023-07-09T17:24:56.790586",
     "status": "completed"
    },
    "tags": []
   },
   "outputs": [],
   "source": [
    "param_grid = {\n",
    "    'n_neighbors': [3, 5, 7, 9],\n",
    "\n",
    "}"
   ]
  },
  {
   "cell_type": "markdown",
   "id": "7e26e22f",
   "metadata": {
    "papermill": {
     "duration": 0.024537,
     "end_time": "2023-07-09T17:24:56.868312",
     "exception": false,
     "start_time": "2023-07-09T17:24:56.843775",
     "status": "completed"
    },
    "tags": []
   },
   "source": [
    "## Define the KNN classifier object\n"
   ]
  },
  {
   "cell_type": "code",
   "execution_count": 23,
   "id": "99e401c3",
   "metadata": {
    "execution": {
     "iopub.execute_input": "2023-07-09T17:24:56.917694Z",
     "iopub.status.busy": "2023-07-09T17:24:56.917117Z",
     "iopub.status.idle": "2023-07-09T17:24:56.921160Z",
     "shell.execute_reply": "2023-07-09T17:24:56.920284Z"
    },
    "papermill": {
     "duration": 0.030893,
     "end_time": "2023-07-09T17:24:56.923110",
     "exception": false,
     "start_time": "2023-07-09T17:24:56.892217",
     "status": "completed"
    },
    "tags": []
   },
   "outputs": [],
   "source": [
    "\n",
    "knn = KNeighborsClassifier()\n",
    "\n"
   ]
  },
  {
   "cell_type": "markdown",
   "id": "a3d422f9",
   "metadata": {
    "papermill": {
     "duration": 0.022381,
     "end_time": "2023-07-09T17:24:56.969032",
     "exception": false,
     "start_time": "2023-07-09T17:24:56.946651",
     "status": "completed"
    },
    "tags": []
   },
   "source": [
    "### In medical testing, recall is a measure of the ability of a test to correctly identify true positive cases, or the proportion of actual positive cases that are correctly identified by the test. A high recall means that the test is able to correctly identify a large proportion of true positive cases, even if it may also produce some false positive results, therefore for ```scoring``` we select recall . The choice of performance metric for a machine learning model may depend on several factors. \n",
    "\n",
    "### The next cell  performs a grid search over the hyperparameters of a KNN classifier using ```GridSearchCV()``` function from scikit-learn library. The param_grid parameter specifies a dictionary of hyperparameters to search over, while the scoring parameter specifies the performance metric to optimize for, which in this case is the recall. The cv parameter specifies the number of folds for cross-validationv ```cv``` . The resulting grid_search object can be used to fit the data and obtain the best hyperparameters that maximize the performance metric.\n"
   ]
  },
  {
   "cell_type": "code",
   "execution_count": 24,
   "id": "0b4de7a2",
   "metadata": {
    "execution": {
     "iopub.execute_input": "2023-07-09T17:24:57.016285Z",
     "iopub.status.busy": "2023-07-09T17:24:57.015630Z",
     "iopub.status.idle": "2023-07-09T17:24:57.023334Z",
     "shell.execute_reply": "2023-07-09T17:24:57.022721Z"
    },
    "papermill": {
     "duration": 0.03316,
     "end_time": "2023-07-09T17:24:57.024929",
     "exception": false,
     "start_time": "2023-07-09T17:24:56.991769",
     "status": "completed"
    },
    "tags": []
   },
   "outputs": [
    {
     "data": {
      "text/html": [
       "<style>#sk-container-id-2 {color: black;background-color: white;}#sk-container-id-2 pre{padding: 0;}#sk-container-id-2 div.sk-toggleable {background-color: white;}#sk-container-id-2 label.sk-toggleable__label {cursor: pointer;display: block;width: 100%;margin-bottom: 0;padding: 0.3em;box-sizing: border-box;text-align: center;}#sk-container-id-2 label.sk-toggleable__label-arrow:before {content: \"▸\";float: left;margin-right: 0.25em;color: #696969;}#sk-container-id-2 label.sk-toggleable__label-arrow:hover:before {color: black;}#sk-container-id-2 div.sk-estimator:hover label.sk-toggleable__label-arrow:before {color: black;}#sk-container-id-2 div.sk-toggleable__content {max-height: 0;max-width: 0;overflow: hidden;text-align: left;background-color: #f0f8ff;}#sk-container-id-2 div.sk-toggleable__content pre {margin: 0.2em;color: black;border-radius: 0.25em;background-color: #f0f8ff;}#sk-container-id-2 input.sk-toggleable__control:checked~div.sk-toggleable__content {max-height: 200px;max-width: 100%;overflow: auto;}#sk-container-id-2 input.sk-toggleable__control:checked~label.sk-toggleable__label-arrow:before {content: \"▾\";}#sk-container-id-2 div.sk-estimator input.sk-toggleable__control:checked~label.sk-toggleable__label {background-color: #d4ebff;}#sk-container-id-2 div.sk-label input.sk-toggleable__control:checked~label.sk-toggleable__label {background-color: #d4ebff;}#sk-container-id-2 input.sk-hidden--visually {border: 0;clip: rect(1px 1px 1px 1px);clip: rect(1px, 1px, 1px, 1px);height: 1px;margin: -1px;overflow: hidden;padding: 0;position: absolute;width: 1px;}#sk-container-id-2 div.sk-estimator {font-family: monospace;background-color: #f0f8ff;border: 1px dotted black;border-radius: 0.25em;box-sizing: border-box;margin-bottom: 0.5em;}#sk-container-id-2 div.sk-estimator:hover {background-color: #d4ebff;}#sk-container-id-2 div.sk-parallel-item::after {content: \"\";width: 100%;border-bottom: 1px solid gray;flex-grow: 1;}#sk-container-id-2 div.sk-label:hover label.sk-toggleable__label {background-color: #d4ebff;}#sk-container-id-2 div.sk-serial::before {content: \"\";position: absolute;border-left: 1px solid gray;box-sizing: border-box;top: 0;bottom: 0;left: 50%;z-index: 0;}#sk-container-id-2 div.sk-serial {display: flex;flex-direction: column;align-items: center;background-color: white;padding-right: 0.2em;padding-left: 0.2em;position: relative;}#sk-container-id-2 div.sk-item {position: relative;z-index: 1;}#sk-container-id-2 div.sk-parallel {display: flex;align-items: stretch;justify-content: center;background-color: white;position: relative;}#sk-container-id-2 div.sk-item::before, #sk-container-id-2 div.sk-parallel-item::before {content: \"\";position: absolute;border-left: 1px solid gray;box-sizing: border-box;top: 0;bottom: 0;left: 50%;z-index: -1;}#sk-container-id-2 div.sk-parallel-item {display: flex;flex-direction: column;z-index: 1;position: relative;background-color: white;}#sk-container-id-2 div.sk-parallel-item:first-child::after {align-self: flex-end;width: 50%;}#sk-container-id-2 div.sk-parallel-item:last-child::after {align-self: flex-start;width: 50%;}#sk-container-id-2 div.sk-parallel-item:only-child::after {width: 0;}#sk-container-id-2 div.sk-dashed-wrapped {border: 1px dashed gray;margin: 0 0.4em 0.5em 0.4em;box-sizing: border-box;padding-bottom: 0.4em;background-color: white;}#sk-container-id-2 div.sk-label label {font-family: monospace;font-weight: bold;display: inline-block;line-height: 1.2em;}#sk-container-id-2 div.sk-label-container {text-align: center;}#sk-container-id-2 div.sk-container {/* jupyter's `normalize.less` sets `[hidden] { display: none; }` but bootstrap.min.css set `[hidden] { display: none !important; }` so we also need the `!important` here to be able to override the default hidden behavior on the sphinx rendered scikit-learn.org. See: https://github.com/scikit-learn/scikit-learn/issues/21755 */display: inline-block !important;position: relative;}#sk-container-id-2 div.sk-text-repr-fallback {display: none;}</style><div id=\"sk-container-id-2\" class=\"sk-top-container\"><div class=\"sk-text-repr-fallback\"><pre>GridSearchCV(cv=5, estimator=KNeighborsClassifier(),\n",
       "             param_grid={&#x27;n_neighbors&#x27;: [3, 5, 7, 9]}, scoring=&#x27;recall&#x27;)</pre><b>In a Jupyter environment, please rerun this cell to show the HTML representation or trust the notebook. <br />On GitHub, the HTML representation is unable to render, please try loading this page with nbviewer.org.</b></div><div class=\"sk-container\" hidden><div class=\"sk-item sk-dashed-wrapped\"><div class=\"sk-label-container\"><div class=\"sk-label sk-toggleable\"><input class=\"sk-toggleable__control sk-hidden--visually\" id=\"sk-estimator-id-2\" type=\"checkbox\" ><label for=\"sk-estimator-id-2\" class=\"sk-toggleable__label sk-toggleable__label-arrow\">GridSearchCV</label><div class=\"sk-toggleable__content\"><pre>GridSearchCV(cv=5, estimator=KNeighborsClassifier(),\n",
       "             param_grid={&#x27;n_neighbors&#x27;: [3, 5, 7, 9]}, scoring=&#x27;recall&#x27;)</pre></div></div></div><div class=\"sk-parallel\"><div class=\"sk-parallel-item\"><div class=\"sk-item\"><div class=\"sk-label-container\"><div class=\"sk-label sk-toggleable\"><input class=\"sk-toggleable__control sk-hidden--visually\" id=\"sk-estimator-id-3\" type=\"checkbox\" ><label for=\"sk-estimator-id-3\" class=\"sk-toggleable__label sk-toggleable__label-arrow\">estimator: KNeighborsClassifier</label><div class=\"sk-toggleable__content\"><pre>KNeighborsClassifier()</pre></div></div></div><div class=\"sk-serial\"><div class=\"sk-item\"><div class=\"sk-estimator sk-toggleable\"><input class=\"sk-toggleable__control sk-hidden--visually\" id=\"sk-estimator-id-4\" type=\"checkbox\" ><label for=\"sk-estimator-id-4\" class=\"sk-toggleable__label sk-toggleable__label-arrow\">KNeighborsClassifier</label><div class=\"sk-toggleable__content\"><pre>KNeighborsClassifier()</pre></div></div></div></div></div></div></div></div></div></div>"
      ],
      "text/plain": [
       "GridSearchCV(cv=5, estimator=KNeighborsClassifier(),\n",
       "             param_grid={'n_neighbors': [3, 5, 7, 9]}, scoring='recall')"
      ]
     },
     "execution_count": 24,
     "metadata": {},
     "output_type": "execute_result"
    }
   ],
   "source": [
    "from sklearn.model_selection import GridSearchCV\n",
    "\n",
    "\n",
    "grid_search = GridSearchCV(knn, param_grid, scoring='recall', cv=5)\n",
    "\n",
    "grid_search "
   ]
  },
  {
   "cell_type": "markdown",
   "id": "0706fe6d",
   "metadata": {
    "papermill": {
     "duration": 0.022996,
     "end_time": "2023-07-09T17:24:57.070888",
     "exception": false,
     "start_time": "2023-07-09T17:24:57.047892",
     "status": "completed"
    },
    "tags": []
   },
   "source": [
    "## Fit the grid search to the training data\n"
   ]
  },
  {
   "cell_type": "code",
   "execution_count": 25,
   "id": "ddfd2e65",
   "metadata": {
    "execution": {
     "iopub.execute_input": "2023-07-09T17:24:57.120160Z",
     "iopub.status.busy": "2023-07-09T17:24:57.119868Z",
     "iopub.status.idle": "2023-07-09T17:24:57.251883Z",
     "shell.execute_reply": "2023-07-09T17:24:57.251077Z"
    },
    "papermill": {
     "duration": 0.157928,
     "end_time": "2023-07-09T17:24:57.253463",
     "exception": false,
     "start_time": "2023-07-09T17:24:57.095535",
     "status": "completed"
    },
    "tags": []
   },
   "outputs": [
    {
     "data": {
      "text/html": [
       "<style>#sk-container-id-3 {color: black;background-color: white;}#sk-container-id-3 pre{padding: 0;}#sk-container-id-3 div.sk-toggleable {background-color: white;}#sk-container-id-3 label.sk-toggleable__label {cursor: pointer;display: block;width: 100%;margin-bottom: 0;padding: 0.3em;box-sizing: border-box;text-align: center;}#sk-container-id-3 label.sk-toggleable__label-arrow:before {content: \"▸\";float: left;margin-right: 0.25em;color: #696969;}#sk-container-id-3 label.sk-toggleable__label-arrow:hover:before {color: black;}#sk-container-id-3 div.sk-estimator:hover label.sk-toggleable__label-arrow:before {color: black;}#sk-container-id-3 div.sk-toggleable__content {max-height: 0;max-width: 0;overflow: hidden;text-align: left;background-color: #f0f8ff;}#sk-container-id-3 div.sk-toggleable__content pre {margin: 0.2em;color: black;border-radius: 0.25em;background-color: #f0f8ff;}#sk-container-id-3 input.sk-toggleable__control:checked~div.sk-toggleable__content {max-height: 200px;max-width: 100%;overflow: auto;}#sk-container-id-3 input.sk-toggleable__control:checked~label.sk-toggleable__label-arrow:before {content: \"▾\";}#sk-container-id-3 div.sk-estimator input.sk-toggleable__control:checked~label.sk-toggleable__label {background-color: #d4ebff;}#sk-container-id-3 div.sk-label input.sk-toggleable__control:checked~label.sk-toggleable__label {background-color: #d4ebff;}#sk-container-id-3 input.sk-hidden--visually {border: 0;clip: rect(1px 1px 1px 1px);clip: rect(1px, 1px, 1px, 1px);height: 1px;margin: -1px;overflow: hidden;padding: 0;position: absolute;width: 1px;}#sk-container-id-3 div.sk-estimator {font-family: monospace;background-color: #f0f8ff;border: 1px dotted black;border-radius: 0.25em;box-sizing: border-box;margin-bottom: 0.5em;}#sk-container-id-3 div.sk-estimator:hover {background-color: #d4ebff;}#sk-container-id-3 div.sk-parallel-item::after {content: \"\";width: 100%;border-bottom: 1px solid gray;flex-grow: 1;}#sk-container-id-3 div.sk-label:hover label.sk-toggleable__label {background-color: #d4ebff;}#sk-container-id-3 div.sk-serial::before {content: \"\";position: absolute;border-left: 1px solid gray;box-sizing: border-box;top: 0;bottom: 0;left: 50%;z-index: 0;}#sk-container-id-3 div.sk-serial {display: flex;flex-direction: column;align-items: center;background-color: white;padding-right: 0.2em;padding-left: 0.2em;position: relative;}#sk-container-id-3 div.sk-item {position: relative;z-index: 1;}#sk-container-id-3 div.sk-parallel {display: flex;align-items: stretch;justify-content: center;background-color: white;position: relative;}#sk-container-id-3 div.sk-item::before, #sk-container-id-3 div.sk-parallel-item::before {content: \"\";position: absolute;border-left: 1px solid gray;box-sizing: border-box;top: 0;bottom: 0;left: 50%;z-index: -1;}#sk-container-id-3 div.sk-parallel-item {display: flex;flex-direction: column;z-index: 1;position: relative;background-color: white;}#sk-container-id-3 div.sk-parallel-item:first-child::after {align-self: flex-end;width: 50%;}#sk-container-id-3 div.sk-parallel-item:last-child::after {align-self: flex-start;width: 50%;}#sk-container-id-3 div.sk-parallel-item:only-child::after {width: 0;}#sk-container-id-3 div.sk-dashed-wrapped {border: 1px dashed gray;margin: 0 0.4em 0.5em 0.4em;box-sizing: border-box;padding-bottom: 0.4em;background-color: white;}#sk-container-id-3 div.sk-label label {font-family: monospace;font-weight: bold;display: inline-block;line-height: 1.2em;}#sk-container-id-3 div.sk-label-container {text-align: center;}#sk-container-id-3 div.sk-container {/* jupyter's `normalize.less` sets `[hidden] { display: none; }` but bootstrap.min.css set `[hidden] { display: none !important; }` so we also need the `!important` here to be able to override the default hidden behavior on the sphinx rendered scikit-learn.org. See: https://github.com/scikit-learn/scikit-learn/issues/21755 */display: inline-block !important;position: relative;}#sk-container-id-3 div.sk-text-repr-fallback {display: none;}</style><div id=\"sk-container-id-3\" class=\"sk-top-container\"><div class=\"sk-text-repr-fallback\"><pre>GridSearchCV(cv=5, estimator=KNeighborsClassifier(),\n",
       "             param_grid={&#x27;n_neighbors&#x27;: [3, 5, 7, 9]}, scoring=&#x27;recall&#x27;)</pre><b>In a Jupyter environment, please rerun this cell to show the HTML representation or trust the notebook. <br />On GitHub, the HTML representation is unable to render, please try loading this page with nbviewer.org.</b></div><div class=\"sk-container\" hidden><div class=\"sk-item sk-dashed-wrapped\"><div class=\"sk-label-container\"><div class=\"sk-label sk-toggleable\"><input class=\"sk-toggleable__control sk-hidden--visually\" id=\"sk-estimator-id-5\" type=\"checkbox\" ><label for=\"sk-estimator-id-5\" class=\"sk-toggleable__label sk-toggleable__label-arrow\">GridSearchCV</label><div class=\"sk-toggleable__content\"><pre>GridSearchCV(cv=5, estimator=KNeighborsClassifier(),\n",
       "             param_grid={&#x27;n_neighbors&#x27;: [3, 5, 7, 9]}, scoring=&#x27;recall&#x27;)</pre></div></div></div><div class=\"sk-parallel\"><div class=\"sk-parallel-item\"><div class=\"sk-item\"><div class=\"sk-label-container\"><div class=\"sk-label sk-toggleable\"><input class=\"sk-toggleable__control sk-hidden--visually\" id=\"sk-estimator-id-6\" type=\"checkbox\" ><label for=\"sk-estimator-id-6\" class=\"sk-toggleable__label sk-toggleable__label-arrow\">estimator: KNeighborsClassifier</label><div class=\"sk-toggleable__content\"><pre>KNeighborsClassifier()</pre></div></div></div><div class=\"sk-serial\"><div class=\"sk-item\"><div class=\"sk-estimator sk-toggleable\"><input class=\"sk-toggleable__control sk-hidden--visually\" id=\"sk-estimator-id-7\" type=\"checkbox\" ><label for=\"sk-estimator-id-7\" class=\"sk-toggleable__label sk-toggleable__label-arrow\">KNeighborsClassifier</label><div class=\"sk-toggleable__content\"><pre>KNeighborsClassifier()</pre></div></div></div></div></div></div></div></div></div></div>"
      ],
      "text/plain": [
       "GridSearchCV(cv=5, estimator=KNeighborsClassifier(),\n",
       "             param_grid={'n_neighbors': [3, 5, 7, 9]}, scoring='recall')"
      ]
     },
     "execution_count": 25,
     "metadata": {},
     "output_type": "execute_result"
    }
   ],
   "source": [
    "grid_search.fit(X_train, y_train)"
   ]
  },
  {
   "cell_type": "markdown",
   "id": "d3c44dc2",
   "metadata": {
    "papermill": {
     "duration": 0.023902,
     "end_time": "2023-07-09T17:24:57.301467",
     "exception": false,
     "start_time": "2023-07-09T17:24:57.277565",
     "status": "completed"
    },
    "tags": []
   },
   "source": [
    "## Print the best parameters and score on validation data \n"
   ]
  },
  {
   "cell_type": "code",
   "execution_count": 26,
   "id": "b666474b",
   "metadata": {
    "execution": {
     "iopub.execute_input": "2023-07-09T17:24:57.351093Z",
     "iopub.status.busy": "2023-07-09T17:24:57.350577Z",
     "iopub.status.idle": "2023-07-09T17:24:57.354410Z",
     "shell.execute_reply": "2023-07-09T17:24:57.353855Z"
    },
    "papermill": {
     "duration": 0.030441,
     "end_time": "2023-07-09T17:24:57.355944",
     "exception": false,
     "start_time": "2023-07-09T17:24:57.325503",
     "status": "completed"
    },
    "tags": []
   },
   "outputs": [
    {
     "name": "stdout",
     "output_type": "stream",
     "text": [
      "Best Parameters:  {'n_neighbors': 9}\n",
      "Best Score:  0.97\n"
     ]
    }
   ],
   "source": [
    "print(\"Best Parameters: \", grid_search.best_params_)\n",
    "print(\"Best Score: \", grid_search.best_score_)"
   ]
  },
  {
   "cell_type": "markdown",
   "id": "268eda48",
   "metadata": {
    "papermill": {
     "duration": 0.022353,
     "end_time": "2023-07-09T17:24:57.402318",
     "exception": false,
     "start_time": "2023-07-09T17:24:57.379965",
     "status": "completed"
    },
    "tags": []
   },
   "source": [
    "### Get the predicted labels on the test data using the best estimator:\n"
   ]
  },
  {
   "cell_type": "code",
   "execution_count": 27,
   "id": "91505fe0",
   "metadata": {
    "execution": {
     "iopub.execute_input": "2023-07-09T17:24:57.449088Z",
     "iopub.status.busy": "2023-07-09T17:24:57.448577Z",
     "iopub.status.idle": "2023-07-09T17:24:57.455588Z",
     "shell.execute_reply": "2023-07-09T17:24:57.455042Z"
    },
    "papermill": {
     "duration": 0.032768,
     "end_time": "2023-07-09T17:24:57.457591",
     "exception": false,
     "start_time": "2023-07-09T17:24:57.424823",
     "status": "completed"
    },
    "tags": []
   },
   "outputs": [],
   "source": [
    "y_pred = grid_search.best_estimator_.predict(X_test)"
   ]
  },
  {
   "cell_type": "markdown",
   "id": "6f1b3307",
   "metadata": {
    "papermill": {
     "duration": 0.022774,
     "end_time": "2023-07-09T17:24:57.504296",
     "exception": false,
     "start_time": "2023-07-09T17:24:57.481522",
     "status": "completed"
    },
    "tags": []
   },
   "source": [
    "## Calculate the recall score on the test data using the predicted labels:\n"
   ]
  },
  {
   "cell_type": "code",
   "execution_count": 28,
   "id": "01f84f79",
   "metadata": {
    "execution": {
     "iopub.execute_input": "2023-07-09T17:24:57.551644Z",
     "iopub.status.busy": "2023-07-09T17:24:57.551371Z",
     "iopub.status.idle": "2023-07-09T17:24:57.559379Z",
     "shell.execute_reply": "2023-07-09T17:24:57.558502Z"
    },
    "papermill": {
     "duration": 0.033477,
     "end_time": "2023-07-09T17:24:57.560959",
     "exception": false,
     "start_time": "2023-07-09T17:24:57.527482",
     "status": "completed"
    },
    "tags": []
   },
   "outputs": [
    {
     "data": {
      "text/plain": [
       "0.9148936170212766"
      ]
     },
     "execution_count": 28,
     "metadata": {},
     "output_type": "execute_result"
    }
   ],
   "source": [
    "from sklearn.metrics import recall_score\n",
    "recall = recall_score(y_test, y_pred)\n",
    "\n",
    "recall"
   ]
  },
  {
   "cell_type": "markdown",
   "id": "7599fbd4",
   "metadata": {
    "papermill": {
     "duration": 0.022294,
     "end_time": "2023-07-09T17:24:57.605876",
     "exception": false,
     "start_time": "2023-07-09T17:24:57.583582",
     "status": "completed"
    },
    "tags": []
   },
   "source": [
    "### we can make a prediction \n"
   ]
  },
  {
   "cell_type": "code",
   "execution_count": 29,
   "id": "e6a4d668",
   "metadata": {
    "execution": {
     "iopub.execute_input": "2023-07-09T17:24:57.652867Z",
     "iopub.status.busy": "2023-07-09T17:24:57.652527Z",
     "iopub.status.idle": "2023-07-09T17:24:57.668916Z",
     "shell.execute_reply": "2023-07-09T17:24:57.668113Z"
    },
    "papermill": {
     "duration": 0.041889,
     "end_time": "2023-07-09T17:24:57.670591",
     "exception": false,
     "start_time": "2023-07-09T17:24:57.628702",
     "status": "completed"
    },
    "tags": []
   },
   "outputs": [],
   "source": [
    "y_hat = grid_search.best_estimator_.predict(X)"
   ]
  },
  {
   "cell_type": "markdown",
   "id": "e2f0f6fc",
   "metadata": {
    "papermill": {
     "duration": 0.022327,
     "end_time": "2023-07-09T17:24:57.715871",
     "exception": false,
     "start_time": "2023-07-09T17:24:57.693544",
     "status": "completed"
    },
    "tags": []
   },
   "source": [
    "### Now we use all our data to train the model \n"
   ]
  },
  {
   "cell_type": "code",
   "execution_count": 30,
   "id": "0f6ceee6",
   "metadata": {
    "execution": {
     "iopub.execute_input": "2023-07-09T17:24:57.762996Z",
     "iopub.status.busy": "2023-07-09T17:24:57.762462Z",
     "iopub.status.idle": "2023-07-09T17:24:57.769327Z",
     "shell.execute_reply": "2023-07-09T17:24:57.768794Z"
    },
    "papermill": {
     "duration": 0.032189,
     "end_time": "2023-07-09T17:24:57.770746",
     "exception": false,
     "start_time": "2023-07-09T17:24:57.738557",
     "status": "completed"
    },
    "tags": []
   },
   "outputs": [
    {
     "data": {
      "text/html": [
       "<style>#sk-container-id-4 {color: black;background-color: white;}#sk-container-id-4 pre{padding: 0;}#sk-container-id-4 div.sk-toggleable {background-color: white;}#sk-container-id-4 label.sk-toggleable__label {cursor: pointer;display: block;width: 100%;margin-bottom: 0;padding: 0.3em;box-sizing: border-box;text-align: center;}#sk-container-id-4 label.sk-toggleable__label-arrow:before {content: \"▸\";float: left;margin-right: 0.25em;color: #696969;}#sk-container-id-4 label.sk-toggleable__label-arrow:hover:before {color: black;}#sk-container-id-4 div.sk-estimator:hover label.sk-toggleable__label-arrow:before {color: black;}#sk-container-id-4 div.sk-toggleable__content {max-height: 0;max-width: 0;overflow: hidden;text-align: left;background-color: #f0f8ff;}#sk-container-id-4 div.sk-toggleable__content pre {margin: 0.2em;color: black;border-radius: 0.25em;background-color: #f0f8ff;}#sk-container-id-4 input.sk-toggleable__control:checked~div.sk-toggleable__content {max-height: 200px;max-width: 100%;overflow: auto;}#sk-container-id-4 input.sk-toggleable__control:checked~label.sk-toggleable__label-arrow:before {content: \"▾\";}#sk-container-id-4 div.sk-estimator input.sk-toggleable__control:checked~label.sk-toggleable__label {background-color: #d4ebff;}#sk-container-id-4 div.sk-label input.sk-toggleable__control:checked~label.sk-toggleable__label {background-color: #d4ebff;}#sk-container-id-4 input.sk-hidden--visually {border: 0;clip: rect(1px 1px 1px 1px);clip: rect(1px, 1px, 1px, 1px);height: 1px;margin: -1px;overflow: hidden;padding: 0;position: absolute;width: 1px;}#sk-container-id-4 div.sk-estimator {font-family: monospace;background-color: #f0f8ff;border: 1px dotted black;border-radius: 0.25em;box-sizing: border-box;margin-bottom: 0.5em;}#sk-container-id-4 div.sk-estimator:hover {background-color: #d4ebff;}#sk-container-id-4 div.sk-parallel-item::after {content: \"\";width: 100%;border-bottom: 1px solid gray;flex-grow: 1;}#sk-container-id-4 div.sk-label:hover label.sk-toggleable__label {background-color: #d4ebff;}#sk-container-id-4 div.sk-serial::before {content: \"\";position: absolute;border-left: 1px solid gray;box-sizing: border-box;top: 0;bottom: 0;left: 50%;z-index: 0;}#sk-container-id-4 div.sk-serial {display: flex;flex-direction: column;align-items: center;background-color: white;padding-right: 0.2em;padding-left: 0.2em;position: relative;}#sk-container-id-4 div.sk-item {position: relative;z-index: 1;}#sk-container-id-4 div.sk-parallel {display: flex;align-items: stretch;justify-content: center;background-color: white;position: relative;}#sk-container-id-4 div.sk-item::before, #sk-container-id-4 div.sk-parallel-item::before {content: \"\";position: absolute;border-left: 1px solid gray;box-sizing: border-box;top: 0;bottom: 0;left: 50%;z-index: -1;}#sk-container-id-4 div.sk-parallel-item {display: flex;flex-direction: column;z-index: 1;position: relative;background-color: white;}#sk-container-id-4 div.sk-parallel-item:first-child::after {align-self: flex-end;width: 50%;}#sk-container-id-4 div.sk-parallel-item:last-child::after {align-self: flex-start;width: 50%;}#sk-container-id-4 div.sk-parallel-item:only-child::after {width: 0;}#sk-container-id-4 div.sk-dashed-wrapped {border: 1px dashed gray;margin: 0 0.4em 0.5em 0.4em;box-sizing: border-box;padding-bottom: 0.4em;background-color: white;}#sk-container-id-4 div.sk-label label {font-family: monospace;font-weight: bold;display: inline-block;line-height: 1.2em;}#sk-container-id-4 div.sk-label-container {text-align: center;}#sk-container-id-4 div.sk-container {/* jupyter's `normalize.less` sets `[hidden] { display: none; }` but bootstrap.min.css set `[hidden] { display: none !important; }` so we also need the `!important` here to be able to override the default hidden behavior on the sphinx rendered scikit-learn.org. See: https://github.com/scikit-learn/scikit-learn/issues/21755 */display: inline-block !important;position: relative;}#sk-container-id-4 div.sk-text-repr-fallback {display: none;}</style><div id=\"sk-container-id-4\" class=\"sk-top-container\"><div class=\"sk-text-repr-fallback\"><pre>KNeighborsClassifier()</pre><b>In a Jupyter environment, please rerun this cell to show the HTML representation or trust the notebook. <br />On GitHub, the HTML representation is unable to render, please try loading this page with nbviewer.org.</b></div><div class=\"sk-container\" hidden><div class=\"sk-item\"><div class=\"sk-estimator sk-toggleable\"><input class=\"sk-toggleable__control sk-hidden--visually\" id=\"sk-estimator-id-8\" type=\"checkbox\" checked><label for=\"sk-estimator-id-8\" class=\"sk-toggleable__label sk-toggleable__label-arrow\">KNeighborsClassifier</label><div class=\"sk-toggleable__content\"><pre>KNeighborsClassifier()</pre></div></div></div></div></div>"
      ],
      "text/plain": [
       "KNeighborsClassifier()"
      ]
     },
     "execution_count": 30,
     "metadata": {},
     "output_type": "execute_result"
    }
   ],
   "source": [
    "knn = KNeighborsClassifier()\n",
    "knn.fit(X,y)"
   ]
  },
  {
   "cell_type": "markdown",
   "id": "ef51b6ae",
   "metadata": {
    "papermill": {
     "duration": 0.022984,
     "end_time": "2023-07-09T17:24:57.817021",
     "exception": false,
     "start_time": "2023-07-09T17:24:57.794037",
     "status": "completed"
    },
    "tags": []
   },
   "source": [
    "### let's study our predictions  \n"
   ]
  },
  {
   "cell_type": "code",
   "execution_count": 31,
   "id": "48786897",
   "metadata": {
    "execution": {
     "iopub.execute_input": "2023-07-09T17:24:57.864882Z",
     "iopub.status.busy": "2023-07-09T17:24:57.863937Z",
     "iopub.status.idle": "2023-07-09T17:24:57.879051Z",
     "shell.execute_reply": "2023-07-09T17:24:57.878302Z"
    },
    "papermill": {
     "duration": 0.040955,
     "end_time": "2023-07-09T17:24:57.880990",
     "exception": false,
     "start_time": "2023-07-09T17:24:57.840035",
     "status": "completed"
    },
    "tags": []
   },
   "outputs": [],
   "source": [
    "y_hat =knn.predict(X)"
   ]
  },
  {
   "cell_type": "markdown",
   "id": "9463e409",
   "metadata": {
    "papermill": {
     "duration": 0.022924,
     "end_time": "2023-07-09T17:24:57.927390",
     "exception": false,
     "start_time": "2023-07-09T17:24:57.904466",
     "status": "completed"
    },
    "tags": []
   },
   "source": [
    "### we can plot the confusion matrix \n"
   ]
  },
  {
   "cell_type": "code",
   "execution_count": 32,
   "id": "99c18b74",
   "metadata": {
    "execution": {
     "iopub.execute_input": "2023-07-09T17:24:57.974843Z",
     "iopub.status.busy": "2023-07-09T17:24:57.974106Z",
     "iopub.status.idle": "2023-07-09T17:24:58.250649Z",
     "shell.execute_reply": "2023-07-09T17:24:58.249835Z"
    },
    "papermill": {
     "duration": 0.302081,
     "end_time": "2023-07-09T17:24:58.252338",
     "exception": false,
     "start_time": "2023-07-09T17:24:57.950257",
     "status": "completed"
    },
    "tags": []
   },
   "outputs": [
    {
     "name": "stdout",
     "output_type": "stream",
     "text": [
      "Confusion matrix, without normalization\n",
      "[[ 32  16]\n",
      " [  5 142]]\n"
     ]
    },
    {
     "data": {
      "image/png": "[encoded data removed]",
      "text/plain": [
       "<Figure size 640x480 with 2 Axes>"
      ]
     },
     "metadata": {},
     "output_type": "display_data"
    }
   ],
   "source": [
    "plot_confusion_matrix(confusion_matrix(y, y_hat),classes=[ \"Not Parkinson\", \" Parkinson\"],title='Confusion matrix')"
   ]
  },
  {
   "cell_type": "markdown",
   "id": "e5e7521c",
   "metadata": {
    "papermill": {
     "duration": 0.025392,
     "end_time": "2023-07-09T17:24:58.302183",
     "exception": false,
     "start_time": "2023-07-09T17:24:58.276791",
     "status": "completed"
    },
    "tags": []
   },
   "source": [
    "### let's label true positives, false positives, true negatives, and false negatives \n"
   ]
  },
  {
   "cell_type": "markdown",
   "id": "2d212c18",
   "metadata": {
    "papermill": {
     "duration": 0.024066,
     "end_time": "2023-07-09T17:24:58.350930",
     "exception": false,
     "start_time": "2023-07-09T17:24:58.326864",
     "status": "completed"
    },
    "tags": []
   },
   "source": [
    "# Machine Learning Interpretability\n",
    "## Machine learning interpretability refers to the ability to understand and explain how a machine learning model arrives at its predictions or decisions. It is an important aspect of machine learning because it enables users to gain insight into how a model works, assess its strengths and limitations, and identify potential issues such as bias, errors, or overfitting. Interpretability can be achieved through a variety of techniques such as visualizations, feature importance scores, model-agnostic methods, and explanations of specific decisions. \n",
    "## T-SNE can be used for machine learning interpretability by visualizing high-dimensional data in a two-dimensional space.  For example, in the context of clustering, t-SNE can be used to visualize the clusters in a two-dimensional space, making it easier to identify patterns and relationships between the data points. This can help to identify outliers, clusters that are not well-separated, and potentially interesting subsets of the data that may warrant further investigation. Let's label our predictions\n"
   ]
  },
  {
   "cell_type": "code",
   "execution_count": 33,
   "id": "44b4229a",
   "metadata": {
    "execution": {
     "iopub.execute_input": "2023-07-09T17:24:58.402506Z",
     "iopub.status.busy": "2023-07-09T17:24:58.402125Z",
     "iopub.status.idle": "2023-07-09T17:24:58.546246Z",
     "shell.execute_reply": "2023-07-09T17:24:58.545418Z"
    },
    "papermill": {
     "duration": 0.17156,
     "end_time": "2023-07-09T17:24:58.547783",
     "exception": false,
     "start_time": "2023-07-09T17:24:58.376223",
     "status": "completed"
    },
    "tags": []
   },
   "outputs": [],
   "source": [
    "# find true positives(tp)\n",
    "tsne_df['label']=''\n",
    "tsne_df['label'].iloc[np.where((y_hat == 1) & (y == 1))]=\"TP\"\n",
    "# find true negatives (tn)\n",
    "tsne_df['label'].iloc[np.where((y_hat == 0) & (y == 0))]=\"TN\"\n",
    "# find false positives (fp)\n",
    "tsne_df['label'].iloc[np.where((y_hat == 1) & (y == 0))]=\"FP\" \n",
    "# find false negatives (fp)\n",
    "tsne_df['label'].iloc[np.where((y_hat == 0) & (y == 1))]=\"FN\""
   ]
  },
  {
   "cell_type": "markdown",
   "id": "45711854",
   "metadata": {
    "papermill": {
     "duration": 0.023154,
     "end_time": "2023-07-09T17:24:58.595184",
     "exception": false,
     "start_time": "2023-07-09T17:24:58.572030",
     "status": "completed"
    },
    "tags": []
   },
   "source": [
    "## Let's plot the data, with the labeled predictions\n"
   ]
  },
  {
   "cell_type": "code",
   "execution_count": 34,
   "id": "8bd5c4b3",
   "metadata": {
    "execution": {
     "iopub.execute_input": "2023-07-09T17:24:58.643794Z",
     "iopub.status.busy": "2023-07-09T17:24:58.643048Z",
     "iopub.status.idle": "2023-07-09T17:24:59.020042Z",
     "shell.execute_reply": "2023-07-09T17:24:59.019197Z"
    },
    "papermill": {
     "duration": 0.403282,
     "end_time": "2023-07-09T17:24:59.021857",
     "exception": false,
     "start_time": "2023-07-09T17:24:58.618575",
     "status": "completed"
    },
    "tags": []
   },
   "outputs": [
    {
     "data": {
      "image/png": "[encoded data removed]",
      "text/plain": [
       "<Figure size 800x600 with 1 Axes>"
      ]
     },
     "metadata": {},
     "output_type": "display_data"
    }
   ],
   "source": [
    "plt.figure(figsize=(8, 6))\n",
    "sns.scatterplot(data=tsne_df, x='TSNE1', y='TSNE2', hue='Class', palette='Set2',style='label')\n",
    "plt.title('t-SNE Visualization')\n",
    "plt.show()"
   ]
  },
  {
   "cell_type": "markdown",
   "id": "93cc9234",
   "metadata": {
    "papermill": {
     "duration": 0.025303,
     "end_time": "2023-07-09T17:24:59.072833",
     "exception": false,
     "start_time": "2023-07-09T17:24:59.047530",
     "status": "completed"
    },
    "tags": []
   },
   "source": [
    "## From the plot, we see most of the errors are confined to specific clusters. We can apply clustering to our data before we classify the data, but let's try several other models. Here are several more libraries for Machine Learning Interpretability\n"
   ]
  },
  {
   "cell_type": "markdown",
   "id": "47802226",
   "metadata": {
    "papermill": {
     "duration": 0.026406,
     "end_time": "2023-07-09T17:24:59.124650",
     "exception": false,
     "start_time": "2023-07-09T17:24:59.098244",
     "status": "completed"
    },
    "tags": []
   },
   "source": [
    "<ul>\n",
    "  <li><a href=\"https://github.com/slundberg/shap\">SHAP</a></li>\n",
    "  <li><a href=\"https://github.com/marcotcr/lime\">LIME</a></li>\n",
    "  <li><a href=\"https://github.com/oracle/Skater\">Skater</a></li>\n",
    "  <li><a href=\"https://github.com/microsoft/interpret\">Microsoft InterpretML</a></li>\n",
    "  <li><a href=\"https://github.com/interpretml/interpret-text\">Interpret-text</a></li>\n",
    "  <li><a href=\"https://github.com/interpretml/interpret-core\">Interpret-core</a></li>\n",
    "  <li><a href=\"https://github.com/surrey-unplugged/saliency\">Saliency</a></li>\n",
    "  <li><a href=\"https://github.com/PAIR-code/facets\">Facets</a></li>\n",
    "  <li><a href=\"https://github.com/marcotcr/photonai\">Photonai</a></li>\n",
    "</ul>\n"
   ]
  },
  {
   "cell_type": "markdown",
   "id": "f0b5f12e",
   "metadata": {
    "papermill": {
     "duration": 0.024585,
     "end_time": "2023-07-09T17:24:59.174595",
     "exception": false,
     "start_time": "2023-07-09T17:24:59.150010",
     "status": "completed"
    },
    "tags": []
   },
   "source": [
    "# Logistic Regression\n"
   ]
  },
  {
   "cell_type": "markdown",
   "id": "6df62fcd",
   "metadata": {
    "papermill": {
     "duration": 0.024469,
     "end_time": "2023-07-09T17:24:59.223706",
     "exception": false,
     "start_time": "2023-07-09T17:24:59.199237",
     "status": "completed"
    },
    "tags": []
   },
   "source": [
    "## here's an example code for fitting a logistic regression model using scikit-learn, it's almost identical to K-NN , first we import ```LogisticRegression```\n"
   ]
  },
  {
   "cell_type": "code",
   "execution_count": 35,
   "id": "25b5a800",
   "metadata": {
    "execution": {
     "iopub.execute_input": "2023-07-09T17:24:59.275368Z",
     "iopub.status.busy": "2023-07-09T17:24:59.275033Z",
     "iopub.status.idle": "2023-07-09T17:24:59.279133Z",
     "shell.execute_reply": "2023-07-09T17:24:59.277963Z"
    },
    "papermill": {
     "duration": 0.032405,
     "end_time": "2023-07-09T17:24:59.281110",
     "exception": false,
     "start_time": "2023-07-09T17:24:59.248705",
     "status": "completed"
    },
    "tags": []
   },
   "outputs": [],
   "source": [
    "from sklearn.linear_model import LogisticRegression"
   ]
  },
  {
   "cell_type": "markdown",
   "id": "154a46a6",
   "metadata": {
    "papermill": {
     "duration": 0.024,
     "end_time": "2023-07-09T17:24:59.330469",
     "exception": false,
     "start_time": "2023-07-09T17:24:59.306469",
     "status": "completed"
    },
    "tags": []
   },
   "source": [
    " ## We create and fit logistic regression model ```lr``` and fit it \n"
   ]
  },
  {
   "cell_type": "code",
   "execution_count": 36,
   "id": "1f55883d",
   "metadata": {
    "execution": {
     "iopub.execute_input": "2023-07-09T17:24:59.380294Z",
     "iopub.status.busy": "2023-07-09T17:24:59.379988Z",
     "iopub.status.idle": "2023-07-09T17:24:59.402510Z",
     "shell.execute_reply": "2023-07-09T17:24:59.401721Z"
    },
    "papermill": {
     "duration": 0.049522,
     "end_time": "2023-07-09T17:24:59.404115",
     "exception": false,
     "start_time": "2023-07-09T17:24:59.354593",
     "status": "completed"
    },
    "tags": []
   },
   "outputs": [
    {
     "data": {
      "text/html": [
       "<style>#sk-container-id-5 {color: black;background-color: white;}#sk-container-id-5 pre{padding: 0;}#sk-container-id-5 div.sk-toggleable {background-color: white;}#sk-container-id-5 label.sk-toggleable__label {cursor: pointer;display: block;width: 100%;margin-bottom: 0;padding: 0.3em;box-sizing: border-box;text-align: center;}#sk-container-id-5 label.sk-toggleable__label-arrow:before {content: \"▸\";float: left;margin-right: 0.25em;color: #696969;}#sk-container-id-5 label.sk-toggleable__label-arrow:hover:before {color: black;}#sk-container-id-5 div.sk-estimator:hover label.sk-toggleable__label-arrow:before {color: black;}#sk-container-id-5 div.sk-toggleable__content {max-height: 0;max-width: 0;overflow: hidden;text-align: left;background-color: #f0f8ff;}#sk-container-id-5 div.sk-toggleable__content pre {margin: 0.2em;color: black;border-radius: 0.25em;background-color: #f0f8ff;}#sk-container-id-5 input.sk-toggleable__control:checked~div.sk-toggleable__content {max-height: 200px;max-width: 100%;overflow: auto;}#sk-container-id-5 input.sk-toggleable__control:checked~label.sk-toggleable__label-arrow:before {content: \"▾\";}#sk-container-id-5 div.sk-estimator input.sk-toggleable__control:checked~label.sk-toggleable__label {background-color: #d4ebff;}#sk-container-id-5 div.sk-label input.sk-toggleable__control:checked~label.sk-toggleable__label {background-color: #d4ebff;}#sk-container-id-5 input.sk-hidden--visually {border: 0;clip: rect(1px 1px 1px 1px);clip: rect(1px, 1px, 1px, 1px);height: 1px;margin: -1px;overflow: hidden;padding: 0;position: absolute;width: 1px;}#sk-container-id-5 div.sk-estimator {font-family: monospace;background-color: #f0f8ff;border: 1px dotted black;border-radius: 0.25em;box-sizing: border-box;margin-bottom: 0.5em;}#sk-container-id-5 div.sk-estimator:hover {background-color: #d4ebff;}#sk-container-id-5 div.sk-parallel-item::after {content: \"\";width: 100%;border-bottom: 1px solid gray;flex-grow: 1;}#sk-container-id-5 div.sk-label:hover label.sk-toggleable__label {background-color: #d4ebff;}#sk-container-id-5 div.sk-serial::before {content: \"\";position: absolute;border-left: 1px solid gray;box-sizing: border-box;top: 0;bottom: 0;left: 50%;z-index: 0;}#sk-container-id-5 div.sk-serial {display: flex;flex-direction: column;align-items: center;background-color: white;padding-right: 0.2em;padding-left: 0.2em;position: relative;}#sk-container-id-5 div.sk-item {position: relative;z-index: 1;}#sk-container-id-5 div.sk-parallel {display: flex;align-items: stretch;justify-content: center;background-color: white;position: relative;}#sk-container-id-5 div.sk-item::before, #sk-container-id-5 div.sk-parallel-item::before {content: \"\";position: absolute;border-left: 1px solid gray;box-sizing: border-box;top: 0;bottom: 0;left: 50%;z-index: -1;}#sk-container-id-5 div.sk-parallel-item {display: flex;flex-direction: column;z-index: 1;position: relative;background-color: white;}#sk-container-id-5 div.sk-parallel-item:first-child::after {align-self: flex-end;width: 50%;}#sk-container-id-5 div.sk-parallel-item:last-child::after {align-self: flex-start;width: 50%;}#sk-container-id-5 div.sk-parallel-item:only-child::after {width: 0;}#sk-container-id-5 div.sk-dashed-wrapped {border: 1px dashed gray;margin: 0 0.4em 0.5em 0.4em;box-sizing: border-box;padding-bottom: 0.4em;background-color: white;}#sk-container-id-5 div.sk-label label {font-family: monospace;font-weight: bold;display: inline-block;line-height: 1.2em;}#sk-container-id-5 div.sk-label-container {text-align: center;}#sk-container-id-5 div.sk-container {/* jupyter's `normalize.less` sets `[hidden] { display: none; }` but bootstrap.min.css set `[hidden] { display: none !important; }` so we also need the `!important` here to be able to override the default hidden behavior on the sphinx rendered scikit-learn.org. See: https://github.com/scikit-learn/scikit-learn/issues/21755 */display: inline-block !important;position: relative;}#sk-container-id-5 div.sk-text-repr-fallback {display: none;}</style><div id=\"sk-container-id-5\" class=\"sk-top-container\"><div class=\"sk-text-repr-fallback\"><pre>LogisticRegression()</pre><b>In a Jupyter environment, please rerun this cell to show the HTML representation or trust the notebook. <br />On GitHub, the HTML representation is unable to render, please try loading this page with nbviewer.org.</b></div><div class=\"sk-container\" hidden><div class=\"sk-item\"><div class=\"sk-estimator sk-toggleable\"><input class=\"sk-toggleable__control sk-hidden--visually\" id=\"sk-estimator-id-9\" type=\"checkbox\" checked><label for=\"sk-estimator-id-9\" class=\"sk-toggleable__label sk-toggleable__label-arrow\">LogisticRegression</label><div class=\"sk-toggleable__content\"><pre>LogisticRegression()</pre></div></div></div></div></div>"
      ],
      "text/plain": [
       "LogisticRegression()"
      ]
     },
     "execution_count": 36,
     "metadata": {},
     "output_type": "execute_result"
    }
   ],
   "source": [
    "lr = LogisticRegression()\n",
    "lr.fit(X_train, y_train)"
   ]
  },
  {
   "cell_type": "markdown",
   "id": "41f2bfb3",
   "metadata": {
    "papermill": {
     "duration": 0.024016,
     "end_time": "2023-07-09T17:24:59.453137",
     "exception": false,
     "start_time": "2023-07-09T17:24:59.429121",
     "status": "completed"
    },
    "tags": []
   },
   "source": [
    "## we can make a prediction on the first ten samples\n"
   ]
  },
  {
   "cell_type": "code",
   "execution_count": 37,
   "id": "44ce34b1",
   "metadata": {
    "execution": {
     "iopub.execute_input": "2023-07-09T17:24:59.503762Z",
     "iopub.status.busy": "2023-07-09T17:24:59.503048Z",
     "iopub.status.idle": "2023-07-09T17:24:59.511104Z",
     "shell.execute_reply": "2023-07-09T17:24:59.510155Z"
    },
    "papermill": {
     "duration": 0.035,
     "end_time": "2023-07-09T17:24:59.512609",
     "exception": false,
     "start_time": "2023-07-09T17:24:59.477609",
     "status": "completed"
    },
    "tags": []
   },
   "outputs": [
    {
     "data": {
      "text/plain": [
       "array([1, 0, 1, 1, 1, 1, 1, 0, 0, 0])"
      ]
     },
     "execution_count": 37,
     "metadata": {},
     "output_type": "execute_result"
    }
   ],
   "source": [
    "y_pred = lr.predict(X_test)\n",
    "y_pred[0:10]"
   ]
  },
  {
   "cell_type": "markdown",
   "id": "864451a5",
   "metadata": {
    "papermill": {
     "duration": 0.023936,
     "end_time": "2023-07-09T17:24:59.561012",
     "exception": false,
     "start_time": "2023-07-09T17:24:59.537076",
     "status": "completed"
    },
    "tags": []
   },
   "source": [
    "## We can get a probability of belonging to a each class for each sample, here are the first ten \n"
   ]
  },
  {
   "cell_type": "code",
   "execution_count": 38,
   "id": "e0ea6e40",
   "metadata": {
    "execution": {
     "iopub.execute_input": "2023-07-09T17:24:59.611341Z",
     "iopub.status.busy": "2023-07-09T17:24:59.610329Z",
     "iopub.status.idle": "2023-07-09T17:24:59.617217Z",
     "shell.execute_reply": "2023-07-09T17:24:59.616694Z"
    },
    "papermill": {
     "duration": 0.033602,
     "end_time": "2023-07-09T17:24:59.618625",
     "exception": false,
     "start_time": "2023-07-09T17:24:59.585023",
     "status": "completed"
    },
    "tags": []
   },
   "outputs": [
    {
     "data": {
      "text/plain": [
       "array([[0.26796849, 0.73203151],\n",
       "       [0.69161219, 0.30838781],\n",
       "       [0.06764952, 0.93235048],\n",
       "       [0.38588988, 0.61411012],\n",
       "       [0.07237225, 0.92762775],\n",
       "       [0.26252443, 0.73747557],\n",
       "       [0.00912184, 0.99087816],\n",
       "       [0.5108703 , 0.4891297 ],\n",
       "       [0.85915321, 0.14084679],\n",
       "       [0.90263876, 0.09736124]])"
      ]
     },
     "execution_count": 38,
     "metadata": {},
     "output_type": "execute_result"
    }
   ],
   "source": [
    "lr.predict_proba(X_test)[0:10]\n"
   ]
  },
  {
   "cell_type": "markdown",
   "id": "87dca5f0",
   "metadata": {
    "papermill": {
     "duration": 0.024259,
     "end_time": "2023-07-09T17:24:59.667561",
     "exception": false,
     "start_time": "2023-07-09T17:24:59.643302",
     "status": "completed"
    },
    "tags": []
   },
   "source": [
    "## We can display the confusion matrix as well as a classification report \n"
   ]
  },
  {
   "cell_type": "code",
   "execution_count": 39,
   "id": "28801628",
   "metadata": {
    "execution": {
     "iopub.execute_input": "2023-07-09T17:24:59.720617Z",
     "iopub.status.busy": "2023-07-09T17:24:59.720040Z",
     "iopub.status.idle": "2023-07-09T17:25:00.007137Z",
     "shell.execute_reply": "2023-07-09T17:25:00.006081Z"
    },
    "papermill": {
     "duration": 0.317716,
     "end_time": "2023-07-09T17:25:00.009735",
     "exception": false,
     "start_time": "2023-07-09T17:24:59.692019",
     "status": "completed"
    },
    "tags": []
   },
   "outputs": [
    {
     "name": "stdout",
     "output_type": "stream",
     "text": [
      "Confusion matrix, without normalization\n",
      "[[ 9  3]\n",
      " [ 6 41]]\n",
      "\n",
      "Classification Report:\n",
      "               precision    recall  f1-score   support\n",
      "\n",
      "           0       0.60      0.75      0.67        12\n",
      "           1       0.93      0.87      0.90        47\n",
      "\n",
      "    accuracy                           0.85        59\n",
      "   macro avg       0.77      0.81      0.78        59\n",
      "weighted avg       0.86      0.85      0.85        59\n",
      "\n",
      "\n",
      "Accuracy Score: 0.847457627118644\n"
     ]
    },
    {
     "data": {
      "image/png": "[encoded data removed]",
      "text/plain": [
       "<Figure size 640x480 with 2 Axes>"
      ]
     },
     "metadata": {},
     "output_type": "display_data"
    }
   ],
   "source": [
    "plot_confusion_matrix(confusion_matrix(y_test, y_pred),classes=[ \"Not Parkinson\", \" Parkinson\"],title='Confusion matrix')\n",
    "print(\"\\nClassification Report:\\n\", classification_report(y_test, y_pred))\n",
    "print(\"\\nAccuracy Score:\", accuracy_score(y_test, y_pred))"
   ]
  },
  {
   "cell_type": "markdown",
   "id": "84d2d8d5",
   "metadata": {
    "papermill": {
     "duration": 0.025166,
     "end_time": "2023-07-09T17:25:00.060964",
     "exception": false,
     "start_time": "2023-07-09T17:25:00.035798",
     "status": "completed"
    },
    "tags": []
   },
   "source": [
    "## While grid search can be used to optimize hyperparameters for many machine learning algorithms, the hyperparameters in logistic regression may not be particularly insightful. Instead, we can use logistic regression to identify feature importance, as the coefficients learned during training can reveal which features are most strongly associated with the target variable. We can obtain the coefficients.\n"
   ]
  },
  {
   "cell_type": "code",
   "execution_count": 40,
   "id": "35cbf704",
   "metadata": {
    "execution": {
     "iopub.execute_input": "2023-07-09T17:25:00.113906Z",
     "iopub.status.busy": "2023-07-09T17:25:00.112871Z",
     "iopub.status.idle": "2023-07-09T17:25:00.116950Z",
     "shell.execute_reply": "2023-07-09T17:25:00.116379Z"
    },
    "papermill": {
     "duration": 0.031966,
     "end_time": "2023-07-09T17:25:00.118464",
     "exception": false,
     "start_time": "2023-07-09T17:25:00.086498",
     "status": "completed"
    },
    "tags": []
   },
   "outputs": [],
   "source": [
    "coef=abs(lr.coef_[0])"
   ]
  },
  {
   "cell_type": "markdown",
   "id": "12dc2689",
   "metadata": {
    "papermill": {
     "duration": 0.024521,
     "end_time": "2023-07-09T17:25:00.168338",
     "exception": false,
     "start_time": "2023-07-09T17:25:00.143817",
     "status": "completed"
    },
    "tags": []
   },
   "source": [
    "## the coefficients represent the impact of each feature on the probability of the positive class, So larger the magnitude  of the coefficients  are more important the feature\n"
   ]
  },
  {
   "cell_type": "code",
   "execution_count": 41,
   "id": "5dea807f",
   "metadata": {
    "execution": {
     "iopub.execute_input": "2023-07-09T17:25:00.220682Z",
     "iopub.status.busy": "2023-07-09T17:25:00.219625Z",
     "iopub.status.idle": "2023-07-09T17:25:00.521711Z",
     "shell.execute_reply": "2023-07-09T17:25:00.520913Z"
    },
    "papermill": {
     "duration": 0.330301,
     "end_time": "2023-07-09T17:25:00.523466",
     "exception": false,
     "start_time": "2023-07-09T17:25:00.193165",
     "status": "completed"
    },
    "tags": []
   },
   "outputs": [
    {
     "data": {
      "image/png": "[encoded data removed]",
      "text/plain": [
       "<Figure size 640x480 with 1 Axes>"
      ]
     },
     "metadata": {},
     "output_type": "display_data"
    }
   ],
   "source": [
    "plt.barh(X.columns, coef)\n",
    "plt.show()"
   ]
  },
  {
   "cell_type": "markdown",
   "id": "76ae24c0",
   "metadata": {
    "papermill": {
     "duration": 0.026328,
     "end_time": "2023-07-09T17:25:00.575838",
     "exception": false,
     "start_time": "2023-07-09T17:25:00.549510",
     "status": "completed"
    },
    "tags": []
   },
   "source": [
    "## We can select the features with the highest magnitude coefficients \n"
   ]
  },
  {
   "cell_type": "code",
   "execution_count": 42,
   "id": "e0276ff6",
   "metadata": {
    "execution": {
     "iopub.execute_input": "2023-07-09T17:25:00.627574Z",
     "iopub.status.busy": "2023-07-09T17:25:00.627252Z",
     "iopub.status.idle": "2023-07-09T17:25:00.632818Z",
     "shell.execute_reply": "2023-07-09T17:25:00.632030Z"
    },
    "papermill": {
     "duration": 0.033561,
     "end_time": "2023-07-09T17:25:00.634478",
     "exception": false,
     "start_time": "2023-07-09T17:25:00.600917",
     "status": "completed"
    },
    "tags": []
   },
   "outputs": [
    {
     "data": {
      "text/plain": [
       "Index(['D2', 'MDVP:Shimmer(dB)', 'spread1', 'DFA', 'spread2'], dtype='object')"
      ]
     },
     "execution_count": 42,
     "metadata": {},
     "output_type": "execute_result"
    }
   ],
   "source": [
    "best_columns=X.columns[np.argsort(-1*coef)[0:5]]\n",
    "best_columns"
   ]
  },
  {
   "cell_type": "code",
   "execution_count": 43,
   "id": "3035099a",
   "metadata": {
    "execution": {
     "iopub.execute_input": "2023-07-09T17:25:00.687173Z",
     "iopub.status.busy": "2023-07-09T17:25:00.686691Z",
     "iopub.status.idle": "2023-07-09T17:25:00.980833Z",
     "shell.execute_reply": "2023-07-09T17:25:00.980014Z"
    },
    "papermill": {
     "duration": 0.322403,
     "end_time": "2023-07-09T17:25:00.982565",
     "exception": false,
     "start_time": "2023-07-09T17:25:00.660162",
     "status": "completed"
    },
    "tags": []
   },
   "outputs": [
    {
     "name": "stdout",
     "output_type": "stream",
     "text": [
      "Confusion matrix, without normalization\n",
      "[[ 9  3]\n",
      " [ 6 41]]\n",
      "\n",
      "Classification Report:\n",
      "               precision    recall  f1-score   support\n",
      "\n",
      "           0       0.60      0.75      0.67        12\n",
      "           1       0.93      0.87      0.90        47\n",
      "\n",
      "    accuracy                           0.85        59\n",
      "   macro avg       0.77      0.81      0.78        59\n",
      "weighted avg       0.86      0.85      0.85        59\n",
      "\n",
      "\n",
      "Accuracy Score: 0.847457627118644\n"
     ]
    },
    {
     "data": {
      "image/png": "[encoded data removed]",
      "text/plain": [
       "<Figure size 640x480 with 2 Axes>"
      ]
     },
     "metadata": {},
     "output_type": "display_data"
    }
   ],
   "source": [
    "log_reg = LogisticRegression(max_iter=10000)\n",
    "log_reg.fit(X_train[best_columns], y_train)\n",
    "\n",
    "# Get the predicted probabilities for each class\n",
    "y_pred_proba = log_reg.predict_proba(X_test[best_columns])\n",
    "\n",
    "plot_confusion_matrix(confusion_matrix(y_test, y_pred),classes=[ \"Not Parkinson\", \" Parkinson\"],title='Confusion matrix')\n",
    "print(\"\\nClassification Report:\\n\", classification_report(y_test, y_pred))\n",
    "print(\"\\nAccuracy Score:\", accuracy_score(y_test, y_pred))"
   ]
  },
  {
   "cell_type": "markdown",
   "id": "8d2ca988",
   "metadata": {
    "papermill": {
     "duration": 0.026196,
     "end_time": "2023-07-09T17:25:01.035745",
     "exception": false,
     "start_time": "2023-07-09T17:25:01.009549",
     "status": "completed"
    },
    "tags": []
   },
   "source": [
    "### We see many of the  features are redundant, identifying and removing redundant features can potentially help in a few ways.\n",
    "\n",
    "### First, it can reduce the amount of data required for the model, which can reduce the cost of storing and processing data.\n",
    "\n",
    "### Second, it can improve the performance of the model, allowing it to make more accurate predictions with fewer resources. This can help reduce the cost of misclassifications or errors in the predictions.\n",
    "\n",
    "### Finally, it can also reduce the cost of model development and maintenance. Removing redundant features can simplify the model, making it easier to develop and maintain over time. It can also reduce the need for frequent updates and retraining, which can be costly in terms of time and resources\n"
   ]
  },
  {
   "cell_type": "markdown",
   "id": "152483ed",
   "metadata": {
    "papermill": {
     "duration": 0.026178,
     "end_time": "2023-07-09T17:25:01.088158",
     "exception": false,
     "start_time": "2023-07-09T17:25:01.061980",
     "status": "completed"
    },
    "tags": []
   },
   "source": [
    "# Support Vector Machines (SVM)\n",
    "\n",
    "\n",
    "### SVM stands for Support Vector Machines. It is a type of supervised machine learning algorithm used for classification. The algorithm identifies a hyperplane (or a set of hyperplanes) in an n-dimensional space that maximally separates the different classes in the dataset. The hyperplane that is selected is the one that has the maximum margin between the closest points of different classes, known as support vectors. SVM is particularly effective in high-dimensional datasets where other algorithms may have difficulty in identifying a clear boundary between the classes. SVM is also versatile in the type of kernel functions that can be used to transform the data into higher dimensions, such as linear, polynomial, and radial basis function (RBF) kernels.\n",
    "\n",
    "## Like Logistic Regression SVM is a linear classifier but there are some Pros and Cons\n",
    "\n",
    "## Pros of SVM over Logistic Regression\n",
    "<ul>\n",
    "<li>Effective in high dimensional spaces and with datasets that have a lot of features</li>\n",
    "<li>Can handle non-linearly separable data using kernel trick</li>\n",
    "<li>Robust to overfitting due to the regularization parameter</li>\n",
    "</ul>\n",
    "\n",
    "## Cons of SVM compared to Logistic Regression<b>\n",
    "<ul>\n",
    "<li>Can be computationally expensive to train, especially with large datasets</li>\n",
    "<li>Difficult to interpret the results and understand the impact of each feature on the model</li>\n",
    "<li>Requires careful selection of hyperparameters to achieve optimal performance</li>\n",
    "</ul>\n",
    "\n",
    "You can train a SVM just like any other model \n"
   ]
  },
  {
   "cell_type": "markdown",
   "id": "71017ccf",
   "metadata": {
    "papermill": {
     "duration": 0.026043,
     "end_time": "2023-07-09T17:25:01.141883",
     "exception": false,
     "start_time": "2023-07-09T17:25:01.115840",
     "status": "completed"
    },
    "tags": []
   },
   "source": [
    "# Train and Test SVM Model using the SVC constructor and display the confusion matrix"
   ]
  },
  {
   "cell_type": "code",
   "execution_count": 44,
   "id": "4aadd33b",
   "metadata": {
    "execution": {
     "iopub.execute_input": "2023-07-09T17:25:01.196436Z",
     "iopub.status.busy": "2023-07-09T17:25:01.195894Z",
     "iopub.status.idle": "2023-07-09T17:25:01.482548Z",
     "shell.execute_reply": "2023-07-09T17:25:01.481803Z"
    },
    "papermill": {
     "duration": 0.316021,
     "end_time": "2023-07-09T17:25:01.484253",
     "exception": false,
     "start_time": "2023-07-09T17:25:01.168232",
     "status": "completed"
    },
    "tags": []
   },
   "outputs": [
    {
     "name": "stdout",
     "output_type": "stream",
     "text": [
      "Confusion matrix, without normalization\n",
      "[[ 4  8]\n",
      " [ 2 45]]\n"
     ]
    },
    {
     "data": {
      "image/png": "[encoded data removed]",
      "text/plain": [
       "<Figure size 640x480 with 2 Axes>"
      ]
     },
     "metadata": {},
     "output_type": "display_data"
    }
   ],
   "source": [
    "from sklearn.svm import SVC\n",
    "# Train the SVM classifier\n",
    "svm = SVC()\n",
    "svm.fit(X_train, y_train)\n",
    "\n",
    "# Make predictions on the test set\n",
    "y_hat = svm.predict(X_test)\n",
    "\n",
    "# confusion_matri\n",
    "plot_confusion_matrix(confusion_matrix(y_test, y_hat),classes=[ \"Not Parkinson\", \" Parkinson\"],title='Confusion matrix')"
   ]
  },
  {
   "cell_type": "markdown",
   "id": "b1b45a71",
   "metadata": {
    "papermill": {
     "duration": 0.026419,
     "end_time": "2023-07-09T17:25:01.538179",
     "exception": false,
     "start_time": "2023-07-09T17:25:01.511760",
     "status": "completed"
    },
    "tags": []
   },
   "source": [
    "## Here are the explanations for some of the important parameters: \n",
    "    \n",
    "## ```C:``` Regularization parameter. A smaller value of C creates a wider margin but may lead to more misclassifications, while a larger value of C creates a narrower margin but may lead to overfitting\n",
    "\n",
    "## ```kernel:``` Type of kernel function used to transform the data into a higher-dimensional space where it can be linearly separated. Common choices include linear, polynomial, and radial basis function (RBF) kernels\n",
    "\n",
    "## ```gamma:``` Kernel coefficient for RBF, polynomial, and sigmoid kernels. A smaller value of gamma creates a larger influence radius for the support vectors, while a larger value of gamma creates a smaller influence radius and can lead to overfitting\n",
    "\n",
    "## ```degree:``` Degree of the polynomial kernel function. Only used for polynomial kernel.    \n",
    "    \n"
   ]
  },
  {
   "cell_type": "markdown",
   "id": "a0d3917e",
   "metadata": {
    "papermill": {
     "duration": 0.025916,
     "end_time": "2023-07-09T17:25:01.590641",
     "exception": false,
     "start_time": "2023-07-09T17:25:01.564725",
     "status": "completed"
    },
    "tags": []
   },
   "source": [
    "## here is a dictionary for grid search with some of the specified parameters:\n"
   ]
  },
  {
   "cell_type": "code",
   "execution_count": 45,
   "id": "13bc77b9",
   "metadata": {
    "execution": {
     "iopub.execute_input": "2023-07-09T17:25:01.644726Z",
     "iopub.status.busy": "2023-07-09T17:25:01.644374Z",
     "iopub.status.idle": "2023-07-09T17:25:01.648775Z",
     "shell.execute_reply": "2023-07-09T17:25:01.647824Z"
    },
    "papermill": {
     "duration": 0.033166,
     "end_time": "2023-07-09T17:25:01.650333",
     "exception": false,
     "start_time": "2023-07-09T17:25:01.617167",
     "status": "completed"
    },
    "tags": []
   },
   "outputs": [],
   "source": [
    "param_grid = {\n",
    "    'C': [0.1, 1,],\n",
    "    'gamma': [0.1, 1, 10],\n",
    "\n",
    "}"
   ]
  },
  {
   "cell_type": "markdown",
   "id": "39c5d10d",
   "metadata": {
    "papermill": {
     "duration": 0.026249,
     "end_time": "2023-07-09T17:25:01.703407",
     "exception": false,
     "start_time": "2023-07-09T17:25:01.677158",
     "status": "completed"
    },
    "tags": []
   },
   "source": [
    "# Performing grid search on an SVM classifier with the specified hyperparameters and using recall as the scoring metric to find the best hyperparameters and the corresponding recall score:\n"
   ]
  },
  {
   "cell_type": "code",
   "execution_count": 46,
   "id": "bdc8f883",
   "metadata": {
    "execution": {
     "iopub.execute_input": "2023-07-09T17:25:01.762949Z",
     "iopub.status.busy": "2023-07-09T17:25:01.762073Z",
     "iopub.status.idle": "2023-07-09T17:25:01.854275Z",
     "shell.execute_reply": "2023-07-09T17:25:01.853307Z"
    },
    "papermill": {
     "duration": 0.122431,
     "end_time": "2023-07-09T17:25:01.856246",
     "exception": false,
     "start_time": "2023-07-09T17:25:01.733815",
     "status": "completed"
    },
    "tags": []
   },
   "outputs": [
    {
     "name": "stdout",
     "output_type": "stream",
     "text": [
      "Best hyperparameters:  {'C': 0.1, 'gamma': 0.1}\n",
      "Best recall score:  1.0\n"
     ]
    }
   ],
   "source": [
    "from sklearn.svm import SVC\n",
    "# Train the SVM classifier\n",
    "svm = SVC()\n",
    "# Create a GridSearchCV object\n",
    "grid_search = GridSearchCV(svm, param_grid, scoring='recall', cv=2)\n",
    "\n",
    "# Fit the GridSearchCV object to the training data\n",
    "grid_search.fit(X_train, y_train)\n",
    "\n",
    "# Print the best hyperparameters and the corresponding recall score\n",
    "print(\"Best hyperparameters: \", grid_search.best_params_)\n",
    "print(\"Best recall score: \", grid_search.best_score_)\n"
   ]
  },
  {
   "cell_type": "markdown",
   "id": "fcd5c6e2",
   "metadata": {
    "papermill": {
     "duration": 0.026648,
     "end_time": "2023-07-09T17:25:01.910883",
     "exception": false,
     "start_time": "2023-07-09T17:25:01.884235",
     "status": "completed"
    },
    "tags": []
   },
   "source": [
    "#  Random Forest Model\n",
    "\n"
   ]
  },
  {
   "cell_type": "markdown",
   "id": "77afdd91",
   "metadata": {
    "papermill": {
     "duration": 0.026211,
     "end_time": "2023-07-09T17:25:01.964104",
     "exception": false,
     "start_time": "2023-07-09T17:25:01.937893",
     "status": "completed"
    },
    "tags": []
   },
   "source": [
    "## Random Forest is a good choice for various machine learning tasks due to its high accuracy in classifying complex data patterns. The ability to interpret the results of Random Forest models also makes it easier to validate and understand the decisions it makes.\n"
   ]
  },
  {
   "cell_type": "code",
   "execution_count": 47,
   "id": "f7639525",
   "metadata": {
    "execution": {
     "iopub.execute_input": "2023-07-09T17:25:02.019195Z",
     "iopub.status.busy": "2023-07-09T17:25:02.018835Z",
     "iopub.status.idle": "2023-07-09T17:25:02.257530Z",
     "shell.execute_reply": "2023-07-09T17:25:02.256712Z"
    },
    "papermill": {
     "duration": 0.268155,
     "end_time": "2023-07-09T17:25:02.259180",
     "exception": false,
     "start_time": "2023-07-09T17:25:01.991025",
     "status": "completed"
    },
    "tags": []
   },
   "outputs": [
    {
     "name": "stdout",
     "output_type": "stream",
     "text": [
      "Accuracy: 89.83%\n"
     ]
    }
   ],
   "source": [
    "from sklearn.ensemble import RandomForestClassifier\n",
    "# Create a Random Forest model\n",
    "rf = RandomForestClassifier(random_state=123)\n",
    "\n",
    "# Train the model on the training data\n",
    "rf.fit(X_train, y_train)\n",
    "\n",
    "# Make predictions on the test data\n",
    "y_pred = rf.predict(X_test)\n",
    "\n",
    "# Evaluate the model's performance\n",
    "accuracy = accuracy_score(y_test, y_pred)\n",
    "print(\"Accuracy: {:.2f}%\".format(accuracy * 100))"
   ]
  },
  {
   "cell_type": "markdown",
   "id": "03a50060",
   "metadata": {
    "papermill": {
     "duration": 0.026657,
     "end_time": "2023-07-09T17:25:02.313581",
     "exception": false,
     "start_time": "2023-07-09T17:25:02.286924",
     "status": "completed"
    },
    "tags": []
   },
   "source": [
    "# Perform grid search for RandomForest to tune the parameters\n"
   ]
  },
  {
   "cell_type": "code",
   "execution_count": 48,
   "id": "b8dbff5a",
   "metadata": {
    "execution": {
     "iopub.execute_input": "2023-07-09T17:25:02.369652Z",
     "iopub.status.busy": "2023-07-09T17:25:02.369161Z",
     "iopub.status.idle": "2023-07-09T17:25:17.238735Z",
     "shell.execute_reply": "2023-07-09T17:25:17.237910Z"
    },
    "papermill": {
     "duration": 14.899741,
     "end_time": "2023-07-09T17:25:17.240457",
     "exception": false,
     "start_time": "2023-07-09T17:25:02.340716",
     "status": "completed"
    },
    "tags": []
   },
   "outputs": [
    {
     "name": "stdout",
     "output_type": "stream",
     "text": [
      "Best parameters: {'max_depth': 5, 'max_features': 'sqrt', 'n_estimators': 100}\n"
     ]
    }
   ],
   "source": [
    "from sklearn.model_selection import GridSearchCV\n",
    "\n",
    "# Define the parameter grid to search over\n",
    "param_grid = {\n",
    "    'n_estimators': [50, 100, 200],\n",
    "    'max_depth': [5, 10, 15],\n",
    "    'max_features': ['sqrt', 'log2']\n",
    "}\n",
    "\n",
    "# Create a random forest classifier\n",
    "rf = RandomForestClassifier(random_state=42)\n",
    "\n",
    "# Create the GridSearchCV object\n",
    "grid_search = GridSearchCV(estimator=rf, param_grid=param_grid, cv=5)\n",
    "\n",
    "# Fit the GridSearchCV object to the data\n",
    "grid_search.fit(X_train, y_train)\n",
    "rf.fit(X_train, y_train)\n",
    "\n",
    "# Print the best hyperparameters\n",
    "print(\"Best parameters:\", grid_search.best_params_)\n",
    "\n",
    "# Get the best model\n",
    "best_model = grid_search.best_estimator_"
   ]
  },
  {
   "cell_type": "code",
   "execution_count": 49,
   "id": "fd9df347",
   "metadata": {
    "execution": {
     "iopub.execute_input": "2023-07-09T17:25:17.296114Z",
     "iopub.status.busy": "2023-07-09T17:25:17.295771Z",
     "iopub.status.idle": "2023-07-09T17:25:17.621848Z",
     "shell.execute_reply": "2023-07-09T17:25:17.620102Z"
    },
    "papermill": {
     "duration": 0.356281,
     "end_time": "2023-07-09T17:25:17.623932",
     "exception": true,
     "start_time": "2023-07-09T17:25:17.267651",
     "status": "failed"
    },
    "tags": []
   },
   "outputs": [
    {
     "name": "stdout",
     "output_type": "stream",
     "text": [
      "Unexpected exception formatting exception. Falling back to standard exception\n"
     ]
    },
    {
     "name": "stderr",
     "output_type": "stream",
     "text": [
      "Traceback (most recent call last):\n",
      "  File \"/opt/conda/lib/python3.10/site-packages/IPython/core/interactiveshell.py\", line 3508, in run_code\n",
      "    exec(code_obj, self.user_global_ns, self.user_ns)\n",
      "  File \"/tmp/ipykernel_20/3398676756.py\", line 3, in <module>\n",
      "    feat_importances.sort_values().plot(kind='barh',color=['g','b'])\n",
      "  File \"/opt/conda/lib/python3.10/site-packages/pandas/plotting/_core.py\", line 920, in __call__\n",
      "    return plot_backend.plot(data, x=x, y=y, kind=kind, **kwargs)\n",
      "  File \"/opt/conda/lib/python3.10/site-packages/pandas/plotting/_core.py\", line 1886, in _get_plot_backend\n",
      "  File \"/opt/conda/lib/python3.10/site-packages/pandas/plotting/_core.py\", line 1817, in _load_backend\n",
      "    # Fall back to unregistered, module name approach.\n",
      "ImportError: matplotlib is required for plotting when the default backend \"matplotlib\" is selected.\n",
      "\n",
      "During handling of the above exception, another exception occurred:\n",
      "\n",
      "Traceback (most recent call last):\n",
      "  File \"/opt/conda/lib/python3.10/site-packages/IPython/core/interactiveshell.py\", line 2105, in showtraceback\n",
      "    stb = self.InteractiveTB.structured_traceback(\n",
      "  File \"/opt/conda/lib/python3.10/site-packages/IPython/core/ultratb.py\", line 1396, in structured_traceback\n",
      "    return FormattedTB.structured_traceback(\n",
      "  File \"/opt/conda/lib/python3.10/site-packages/IPython/core/ultratb.py\", line 1287, in structured_traceback\n",
      "    return VerboseTB.structured_traceback(\n",
      "  File \"/opt/conda/lib/python3.10/site-packages/IPython/core/ultratb.py\", line 1140, in structured_traceback\n",
      "    formatted_exception = self.format_exception_as_a_whole(etype, evalue, etb, number_of_lines_of_context,\n",
      "  File \"/opt/conda/lib/python3.10/site-packages/IPython/core/ultratb.py\", line 1055, in format_exception_as_a_whole\n",
      "    frames.append(self.format_record(record))\n",
      "  File \"/opt/conda/lib/python3.10/site-packages/IPython/core/ultratb.py\", line 955, in format_record\n",
      "    frame_info.lines, Colors, self.has_colors, lvals\n",
      "  File \"/opt/conda/lib/python3.10/site-packages/IPython/core/ultratb.py\", line 778, in lines\n",
      "    return self._sd.lines\n",
      "  File \"/opt/conda/lib/python3.10/site-packages/stack_data/utils.py\", line 144, in cached_property_wrapper\n",
      "    value = obj.__dict__[self.func.__name__] = self.func(obj)\n",
      "  File \"/opt/conda/lib/python3.10/site-packages/stack_data/core.py\", line 734, in lines\n",
      "    pieces = self.included_pieces\n",
      "  File \"/opt/conda/lib/python3.10/site-packages/stack_data/utils.py\", line 144, in cached_property_wrapper\n",
      "    value = obj.__dict__[self.func.__name__] = self.func(obj)\n",
      "  File \"/opt/conda/lib/python3.10/site-packages/stack_data/core.py\", line 681, in included_pieces\n",
      "    pos = scope_pieces.index(self.executing_piece)\n",
      "  File \"/opt/conda/lib/python3.10/site-packages/stack_data/utils.py\", line 144, in cached_property_wrapper\n",
      "    value = obj.__dict__[self.func.__name__] = self.func(obj)\n",
      "  File \"/opt/conda/lib/python3.10/site-packages/stack_data/core.py\", line 660, in executing_piece\n",
      "    return only(\n",
      "  File \"/opt/conda/lib/python3.10/site-packages/executing/executing.py\", line 190, in only\n",
      "    raise NotOneValueFound('Expected one value, found 0')\n",
      "executing.executing.NotOneValueFound: Expected one value, found 0\n"
     ]
    }
   ],
   "source": [
    "# plot the important features\n",
    "feat_importances = pd.Series(rf.feature_importances_, index=X.columns)\n",
    "feat_importances.sort_values().plot(kind='barh',color=['g','b'])"
   ]
  },
  {
   "cell_type": "markdown",
   "id": "939d01b4",
   "metadata": {
    "papermill": {
     "duration": null,
     "end_time": null,
     "exception": null,
     "start_time": null,
     "status": "pending"
    },
    "tags": []
   },
   "source": [
    "### To save the trained model we utilize liberary `pickle`\n"
   ]
  },
  {
   "cell_type": "code",
   "execution_count": null,
   "id": "59943727",
   "metadata": {
    "execution": {
     "iopub.execute_input": "2023-07-09T17:00:42.093492Z",
     "iopub.status.busy": "2023-07-09T17:00:42.093125Z",
     "iopub.status.idle": "2023-07-09T17:00:42.105132Z",
     "shell.execute_reply": "2023-07-09T17:00:42.103941Z",
     "shell.execute_reply.started": "2023-07-09T17:00:42.093465Z"
    },
    "papermill": {
     "duration": null,
     "end_time": null,
     "exception": null,
     "start_time": null,
     "status": "pending"
    },
    "tags": []
   },
   "outputs": [],
   "source": [
    "import pickle\n",
    "\n",
    "# Save the model to a file\n",
    "filename = 'rf_model_parkinson'\n",
    "pickle.dump(rf, open(filename, \"wb\"))"
   ]
  },
  {
   "cell_type": "markdown",
   "id": "15137830",
   "metadata": {
    "papermill": {
     "duration": null,
     "end_time": null,
     "exception": null,
     "start_time": null,
     "status": "pending"
    },
    "tags": []
   },
   "source": [
    "# Visualizing the Decision Trees\n",
    "\n",
    "## using the `dtreeviz` library, we are able to visualize the decision tree. This can contribute to better the understanding of the role of our variables in identifying Parkinson.\n",
    "\n",
    "## At first, let's tune the parameters for the decision tree classifier:\n"
   ]
  },
  {
   "cell_type": "code",
   "execution_count": null,
   "id": "fd0b84df",
   "metadata": {
    "execution": {
     "iopub.execute_input": "2023-07-09T17:00:42.106686Z",
     "iopub.status.busy": "2023-07-09T17:00:42.106352Z",
     "iopub.status.idle": "2023-07-09T17:00:42.463979Z",
     "shell.execute_reply": "2023-07-09T17:00:42.463271Z",
     "shell.execute_reply.started": "2023-07-09T17:00:42.106661Z"
    },
    "papermill": {
     "duration": null,
     "end_time": null,
     "exception": null,
     "start_time": null,
     "status": "pending"
    },
    "tags": []
   },
   "outputs": [],
   "source": [
    "from sklearn.tree import DecisionTreeClassifier\n",
    "from sklearn.model_selection import GridSearchCV\n",
    "\n",
    "# Define the parameter grid\n",
    "param_grid = {\n",
    "    'criterion': ['gini', 'entropy'],\n",
    "    'max_depth': [2, 4],\n",
    "    'min_samples_split': [2, 4],\n",
    "    'min_samples_leaf': [1, 2]\n",
    "}\n",
    "\n",
    "# Create a decision tree classifier\n",
    "dt = DecisionTreeClassifier()\n",
    "\n",
    "# Use GridSearchCV to search for the best parameters\n",
    "grid_search = GridSearchCV(dt, param_grid, cv=5, scoring='accuracy')\n",
    "grid_search.fit(X_train, y_train)\n",
    "\n",
    "# Print the best parameters and best score\n",
    "print(\"Best parameters:\", grid_search.best_params_)\n",
    "print(\"Best recall score:\", grid_search.best_score_)"
   ]
  },
  {
   "cell_type": "markdown",
   "id": "9871ade6",
   "metadata": {
    "papermill": {
     "duration": null,
     "end_time": null,
     "exception": null,
     "start_time": null,
     "status": "pending"
    },
    "tags": []
   },
   "source": [
    "### Apply the parameters to model:\n"
   ]
  },
  {
   "cell_type": "code",
   "execution_count": null,
   "id": "d759b2f8",
   "metadata": {
    "execution": {
     "iopub.execute_input": "2023-07-09T17:01:05.172169Z",
     "iopub.status.busy": "2023-07-09T17:01:05.171789Z",
     "iopub.status.idle": "2023-07-09T17:01:05.178783Z",
     "shell.execute_reply": "2023-07-09T17:01:05.178063Z",
     "shell.execute_reply.started": "2023-07-09T17:01:05.172137Z"
    },
    "papermill": {
     "duration": null,
     "end_time": null,
     "exception": null,
     "start_time": null,
     "status": "pending"
    },
    "tags": []
   },
   "outputs": [],
   "source": [
    "\n",
    "clf=grid_search.best_estimator_\n",
    "#same as\n",
    "#clf = DecisionTreeClassifier(max_depth=2, min_samples_leaf=1, min_samples_split=2, criterion= 'entropy')\n",
    "#clf.fit(X_train, y_train)\n",
    "\n",
    "# Make predictions on the test data\n",
    "y_pred = clf.predict(X_test)\n"
   ]
  },
  {
   "cell_type": "markdown",
   "id": "8b20542b",
   "metadata": {
    "papermill": {
     "duration": null,
     "end_time": null,
     "exception": null,
     "start_time": null,
     "status": "pending"
    },
    "tags": []
   },
   "source": [
    "### Next, we plot the tree:\n"
   ]
  },
  {
   "cell_type": "code",
   "execution_count": null,
   "id": "584467bf",
   "metadata": {
    "execution": {
     "iopub.execute_input": "2023-07-09T17:01:59.013278Z",
     "iopub.status.busy": "2023-07-09T17:01:59.012881Z",
     "iopub.status.idle": "2023-07-09T17:02:01.480743Z",
     "shell.execute_reply": "2023-07-09T17:02:01.479477Z",
     "shell.execute_reply.started": "2023-07-09T17:01:59.013246Z"
    },
    "papermill": {
     "duration": null,
     "end_time": null,
     "exception": null,
     "start_time": null,
     "status": "pending"
    },
    "tags": []
   },
   "outputs": [],
   "source": [
    "# plot the tree \n",
    "import dtreeviz\n",
    "\n",
    "# Getting the list of variables\n",
    "feature_names = list(X_train.columns)\n",
    "\n",
    "# visualizing the tree\n",
    "viz_model = dtreeviz.model(clf,\n",
    "                           X_train=X_train, y_train=y_train, \n",
    "                           feature_names=feature_names)\n",
    "\n",
    "v = viz_model.view(fancy=True)     # render as SVG into internal object \n",
    "v"
   ]
  },
  {
   "cell_type": "markdown",
   "id": "cef2c304",
   "metadata": {
    "papermill": {
     "duration": null,
     "end_time": null,
     "exception": null,
     "start_time": null,
     "status": "pending"
    },
    "tags": []
   },
   "source": [
    "### Let's choose a random point and visualize the decision path:\n"
   ]
  },
  {
   "cell_type": "code",
   "execution_count": null,
   "id": "d371c52e",
   "metadata": {
    "execution": {
     "iopub.execute_input": "2023-07-09T17:02:07.828167Z",
     "iopub.status.busy": "2023-07-09T17:02:07.827782Z",
     "iopub.status.idle": "2023-07-09T17:02:08.762925Z",
     "shell.execute_reply": "2023-07-09T17:02:08.761851Z",
     "shell.execute_reply.started": "2023-07-09T17:02:07.828140Z"
    },
    "papermill": {
     "duration": null,
     "end_time": null,
     "exception": null,
     "start_time": null,
     "status": "pending"
    },
    "tags": []
   },
   "outputs": [],
   "source": [
    "# get a random point\n",
    "rand = np.random.randint(0, len(X))\n",
    "sample_point = X.iloc[rand,:].values\n",
    "\n",
    "# visualizing the path for the point\n",
    "v = viz_model.view(fancy=True,scale=1.5,x=sample_point,show_just_path=True)\n",
    "v"
   ]
  }
 ],
 "metadata": {
  "kernelspec": {
   "display_name": "Python 3",
   "language": "python",
   "name": "python3"
  },
  "language_info": {
   "codemirror_mode": {
    "name": "ipython",
    "version": 3
   },
   "file_extension": ".py",
   "mimetype": "text/x-python",
   "name": "python",
   "nbconvert_exporter": "python",
   "pygments_lexer": "ipython3",
   "version": "3.10.10"
  },
  "papermill": {
   "default_parameters": {},
   "duration": 126.954627,
   "end_time": "2023-07-09T17:25:18.574054",
   "environment_variables": {},
   "exception": true,
   "input_path": "__notebook__.ipynb",
   "output_path": "__notebook__.ipynb",
   "parameters": {},
   "start_time": "2023-07-09T17:23:11.619427",
   "version": "2.4.0"
  }
 },
 "nbformat": 4,
 "nbformat_minor": 5
}
